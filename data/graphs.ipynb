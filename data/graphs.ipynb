{
 "cells": [
  {
   "attachments": {},
   "cell_type": "markdown",
   "metadata": {},
   "source": [
    "# Graphs."
   ]
  },
  {
   "cell_type": "code",
   "execution_count": 2,
   "metadata": {},
   "outputs": [],
   "source": [
    "from streamlit_folium import st_folium, folium_static\n",
    "\n",
    "import plotly.express as px\n",
    "\n",
    "import folium\n",
    "from folium import Choropleth, Circle, Marker, Icon, Map, DivIcon, LinearColormap\n",
    "from folium.plugins import HeatMap, MarkerCluster\n",
    "from shapely.geometry import Polygon\n",
    "\n",
    "from folium import Figure\n",
    "import pandas as pd\n",
    "import geopandas as gpd\n",
    "import json\n",
    "import geojson\n",
    "import pyproj\n",
    "\n",
    "from shapely.ops import transform\n",
    "from shapely.geometry import Polygon"
   ]
  },
  {
   "cell_type": "code",
   "execution_count": 3,
   "metadata": {},
   "outputs": [],
   "source": [
    "eco = pd.read_csv(\"D:\\ironhack\\proyectos\\Barcelona_UrbanAnalysis\\csv_from_python\\healthy_barrio.csv\")"
   ]
  },
  {
   "cell_type": "code",
   "execution_count": 4,
   "metadata": {},
   "outputs": [
    {
     "data": {
      "text/html": [
       "<div>\n",
       "<style scoped>\n",
       "    .dataframe tbody tr th:only-of-type {\n",
       "        vertical-align: middle;\n",
       "    }\n",
       "\n",
       "    .dataframe tbody tr th {\n",
       "        vertical-align: top;\n",
       "    }\n",
       "\n",
       "    .dataframe thead th {\n",
       "        text-align: right;\n",
       "    }\n",
       "</style>\n",
       "<table border=\"1\" class=\"dataframe\">\n",
       "  <thead>\n",
       "    <tr style=\"text-align: right;\">\n",
       "      <th></th>\n",
       "      <th>barrio</th>\n",
       "      <th>barri_id</th>\n",
       "      <th>distrito</th>\n",
       "      <th>district_id</th>\n",
       "      <th>Área (km²)</th>\n",
       "      <th>seguridad</th>\n",
       "      <th>max_sound</th>\n",
       "      <th>mobilidad</th>\n",
       "      <th>ocio</th>\n",
       "      <th>air_contam</th>\n",
       "      <th>trees</th>\n",
       "      <th>equipamiento</th>\n",
       "      <th>healthy</th>\n",
       "    </tr>\n",
       "  </thead>\n",
       "  <tbody>\n",
       "    <tr>\n",
       "      <th>13</th>\n",
       "      <td>el poble-sec</td>\n",
       "      <td>11</td>\n",
       "      <td>Sants-Monjuïc</td>\n",
       "      <td>3</td>\n",
       "      <td>1.21</td>\n",
       "      <td>0.474523</td>\n",
       "      <td>4.2182</td>\n",
       "      <td>38.826446</td>\n",
       "      <td>8.85124</td>\n",
       "      <td>0.159383</td>\n",
       "      <td>1147.961593</td>\n",
       "      <td>3.727273</td>\n",
       "      <td>1194.514445</td>\n",
       "    </tr>\n",
       "  </tbody>\n",
       "</table>\n",
       "</div>"
      ],
      "text/plain": [
       "          barrio  barri_id       distrito  district_id  Área (km²)  seguridad  \\\n",
       "13  el poble-sec        11  Sants-Monjuïc            3        1.21   0.474523   \n",
       "\n",
       "    max_sound  mobilidad     ocio  air_contam        trees  equipamiento  \\\n",
       "13     4.2182  38.826446  8.85124    0.159383  1147.961593      3.727273   \n",
       "\n",
       "        healthy  \n",
       "13  1194.514445  "
      ]
     },
     "execution_count": 4,
     "metadata": {},
     "output_type": "execute_result"
    }
   ],
   "source": [
    "eco.sample()"
   ]
  },
  {
   "cell_type": "code",
   "execution_count": 9,
   "metadata": {},
   "outputs": [
    {
     "data": {
      "application/vnd.plotly.v1+json": {
       "config": {
        "plotlyServerURL": "https://plot.ly"
       },
       "data": [
        {
         "alignmentgroup": "True",
         "bingroup": "x",
         "histfunc": "avg",
         "hovertemplate": "barrio=%{x}<br>avg of healthy=%{y}<extra></extra>",
         "legendgroup": "",
         "marker": {
          "color": "#000001",
          "pattern": {
           "shape": ""
          }
         },
         "name": "",
         "offsetgroup": "",
         "orientation": "v",
         "showlegend": false,
         "type": "histogram",
         "x": [
          "pedralbes",
          "sant genís dels agudells",
          "l'antiga esquerra de l'eixample",
          "vallvidrera, el tibidabo i les planes",
          "can baró",
          "el parc i la llacuna del poblenou",
          "la marina del prat vermell",
          "sant gervasi - galvany",
          "sants - badal",
          "el raval",
          "el barri gòtic",
          "el bon pastor",
          "el besòs i el maresme",
          "el poble-sec",
          "sants",
          "la barceloneta",
          "el carmel",
          "la marina de port",
          "horta",
          "vallcarca i els penitents",
          "provençals del poblenou",
          "la dreta de l'eixample",
          "les corts",
          "torre baró",
          "navas",
          "sant andreu",
          "la maternitat i sant ramon",
          "la vila olímpica del poblenou",
          "la salut",
          "sant gervasi - la bonanova",
          "el clot",
          "les roquetes",
          "les tres torres",
          "el poblenou",
          "el camp d'en grassot i gràcia nova",
          "la bordeta",
          "montbau",
          "sant pere, santa caterina i la ribera",
          "ciutat meridiana",
          "sant antoni",
          "el guinardó",
          "sarrià",
          "el putxet i el farró",
          "porta",
          "la trinitat nova",
          "diagonal mar i el front marítim del poblenou",
          "la vila de gràcia",
          "la sagrera",
          "el turó de la peira",
          "la trinitat vella",
          "la teixonera",
          "vallbona",
          "el coll",
          "la font d'en fargues",
          "canyelles",
          "la vall d'hebron",
          "vilapicina i la torre llobeta",
          "la verneda i la pau",
          "la guineueta",
          "verdun",
          "la prosperitat",
          "el baix guinardó",
          "la font de la guatlla",
          "la sagrada família",
          "la nova esquerra de l'eixample",
          "el camp de l'arpa del clot",
          "hostafrancs",
          "el fort pienc",
          "baró de viver",
          "sant martí de provençals",
          "el congrés i els indians",
          "la clota",
          "can peguera"
         ],
         "xaxis": "x",
         "y": [
          1318.1372341199874,
          57.58223063072824,
          7.684825782647957,
          21.560329550394123,
          42.71245949850477,
          25.188475925466413,
          14.820418080811276,
          191.31126939010767,
          10.925668574831755,
          605.8744382460038,
          45.787670886571775,
          -4.212096433666192,
          40.98534259213308,
          1194.5144453393489,
          69.60386778436539,
          98.919469898645,
          44.98208011211934,
          22.4565188133424,
          467.38212209571367,
          283.7608039074486,
          39.536075925466406,
          125.01590310094367,
          351.12476065366167,
          -3.004321495829971,
          -3.870496433666191,
          -2.6132964336661915,
          262.833606132744,
          71.79114259213307,
          293.007768212936,
          189.52427437181603,
          80.93214259213308,
          -4.663494746494275,
          63.8416562469264,
          88.15694259213306,
          35.1607879503567,
          46.42239575257205,
          136.84166467587772,
          1172.5934248197475,
          -2.9637214958299705,
          70.03466334641027,
          140.5041913282766,
          211.9093422598681,
          135.74977034269085,
          5.686150299041823,
          -3.1205214958299705,
          171.5551425921331,
          81.79812590528573,
          -2.817696433666191,
          12.912067693359218,
          -3.923696433666192,
          39.99777625767688,
          -3.3641214958299708,
          160.08671288627113,
          10.82819074712192,
          8.936469201844446,
          24.17898220011337,
          15.171246071737595,
          81.85527592546642,
          8.15526990201949,
          -3.4411214958299707,
          -3.354321495829971,
          116.34291687715576,
          32.01158174363017,
          80.23208405332463,
          214.71631262475324,
          -4.728724074533582,
          27.03363343119044,
          147.11208153713002,
          -4.135096433666192,
          97.9038759254664,
          -3.1718964336661912,
          -0.9274396260256684,
          -5.510337822360584
         ],
         "yaxis": "y"
        }
       ],
       "layout": {
        "barmode": "relative",
        "legend": {
         "tracegroupgap": 0
        },
        "margin": {
         "t": 60
        },
        "template": {
         "data": {
          "candlestick": [
           {
            "decreasing": {
             "line": {
              "color": "#000033"
             }
            },
            "increasing": {
             "line": {
              "color": "#000032"
             }
            },
            "type": "candlestick"
           }
          ],
          "contour": [
           {
            "colorscale": [
             [
              0,
              "#000011"
             ],
             [
              0.1111111111111111,
              "#000012"
             ],
             [
              0.2222222222222222,
              "#000013"
             ],
             [
              0.3333333333333333,
              "#000014"
             ],
             [
              0.4444444444444444,
              "#000015"
             ],
             [
              0.5555555555555556,
              "#000016"
             ],
             [
              0.6666666666666666,
              "#000017"
             ],
             [
              0.7777777777777778,
              "#000018"
             ],
             [
              0.8888888888888888,
              "#000019"
             ],
             [
              1,
              "#000020"
             ]
            ],
            "type": "contour"
           }
          ],
          "contourcarpet": [
           {
            "colorscale": [
             [
              0,
              "#000011"
             ],
             [
              0.1111111111111111,
              "#000012"
             ],
             [
              0.2222222222222222,
              "#000013"
             ],
             [
              0.3333333333333333,
              "#000014"
             ],
             [
              0.4444444444444444,
              "#000015"
             ],
             [
              0.5555555555555556,
              "#000016"
             ],
             [
              0.6666666666666666,
              "#000017"
             ],
             [
              0.7777777777777778,
              "#000018"
             ],
             [
              0.8888888888888888,
              "#000019"
             ],
             [
              1,
              "#000020"
             ]
            ],
            "type": "contourcarpet"
           }
          ],
          "heatmap": [
           {
            "colorscale": [
             [
              0,
              "#000011"
             ],
             [
              0.1111111111111111,
              "#000012"
             ],
             [
              0.2222222222222222,
              "#000013"
             ],
             [
              0.3333333333333333,
              "#000014"
             ],
             [
              0.4444444444444444,
              "#000015"
             ],
             [
              0.5555555555555556,
              "#000016"
             ],
             [
              0.6666666666666666,
              "#000017"
             ],
             [
              0.7777777777777778,
              "#000018"
             ],
             [
              0.8888888888888888,
              "#000019"
             ],
             [
              1,
              "#000020"
             ]
            ],
            "type": "heatmap"
           }
          ],
          "histogram2d": [
           {
            "colorscale": [
             [
              0,
              "#000011"
             ],
             [
              0.1111111111111111,
              "#000012"
             ],
             [
              0.2222222222222222,
              "#000013"
             ],
             [
              0.3333333333333333,
              "#000014"
             ],
             [
              0.4444444444444444,
              "#000015"
             ],
             [
              0.5555555555555556,
              "#000016"
             ],
             [
              0.6666666666666666,
              "#000017"
             ],
             [
              0.7777777777777778,
              "#000018"
             ],
             [
              0.8888888888888888,
              "#000019"
             ],
             [
              1,
              "#000020"
             ]
            ],
            "type": "histogram2d"
           }
          ],
          "icicle": [
           {
            "textfont": {
             "color": "white"
            },
            "type": "icicle"
           }
          ],
          "sankey": [
           {
            "textfont": {
             "color": "#000036"
            },
            "type": "sankey"
           }
          ],
          "scatter": [
           {
            "marker": {
             "line": {
              "width": 0
             }
            },
            "type": "scatter"
           }
          ],
          "table": [
           {
            "cells": {
             "fill": {
              "color": "#000038"
             },
             "font": {
              "color": "#000037"
             },
             "line": {
              "color": "#000039"
             }
            },
            "header": {
             "fill": {
              "color": "#000040"
             },
             "font": {
              "color": "#000036"
             },
             "line": {
              "color": "#000039"
             }
            },
            "type": "table"
           }
          ],
          "waterfall": [
           {
            "connector": {
             "line": {
              "color": "#000036",
              "width": 2
             }
            },
            "decreasing": {
             "marker": {
              "color": "#000033"
             }
            },
            "increasing": {
             "marker": {
              "color": "#000032"
             }
            },
            "totals": {
             "marker": {
              "color": "#000034"
             }
            },
            "type": "waterfall"
           }
          ]
         },
         "layout": {
          "coloraxis": {
           "colorscale": [
            [
             0,
             "#000011"
            ],
            [
             0.1111111111111111,
             "#000012"
            ],
            [
             0.2222222222222222,
             "#000013"
            ],
            [
             0.3333333333333333,
             "#000014"
            ],
            [
             0.4444444444444444,
             "#000015"
            ],
            [
             0.5555555555555556,
             "#000016"
            ],
            [
             0.6666666666666666,
             "#000017"
            ],
            [
             0.7777777777777778,
             "#000018"
            ],
            [
             0.8888888888888888,
             "#000019"
            ],
            [
             1,
             "#000020"
            ]
           ]
          },
          "colorscale": {
           "diverging": [
            [
             0,
             "#000021"
            ],
            [
             0.1,
             "#000022"
            ],
            [
             0.2,
             "#000023"
            ],
            [
             0.3,
             "#000024"
            ],
            [
             0.4,
             "#000025"
            ],
            [
             0.5,
             "#000026"
            ],
            [
             0.6,
             "#000027"
            ],
            [
             0.7,
             "#000028"
            ],
            [
             0.8,
             "#000029"
            ],
            [
             0.9,
             "#000030"
            ],
            [
             1,
             "#000031"
            ]
           ],
           "sequential": [
            [
             0,
             "#000011"
            ],
            [
             0.1111111111111111,
             "#000012"
            ],
            [
             0.2222222222222222,
             "#000013"
            ],
            [
             0.3333333333333333,
             "#000014"
            ],
            [
             0.4444444444444444,
             "#000015"
            ],
            [
             0.5555555555555556,
             "#000016"
            ],
            [
             0.6666666666666666,
             "#000017"
            ],
            [
             0.7777777777777778,
             "#000018"
            ],
            [
             0.8888888888888888,
             "#000019"
            ],
            [
             1,
             "#000020"
            ]
           ],
           "sequentialminus": [
            [
             0,
             "#000011"
            ],
            [
             0.1111111111111111,
             "#000012"
            ],
            [
             0.2222222222222222,
             "#000013"
            ],
            [
             0.3333333333333333,
             "#000014"
            ],
            [
             0.4444444444444444,
             "#000015"
            ],
            [
             0.5555555555555556,
             "#000016"
            ],
            [
             0.6666666666666666,
             "#000017"
            ],
            [
             0.7777777777777778,
             "#000018"
            ],
            [
             0.8888888888888888,
             "#000019"
            ],
            [
             1,
             "#000020"
            ]
           ]
          },
          "colorway": [
           "#000001",
           "#000002",
           "#000003",
           "#000004",
           "#000005",
           "#000006",
           "#000007",
           "#000008",
           "#000009",
           "#000010"
          ]
         }
        },
        "xaxis": {
         "anchor": "y",
         "domain": [
          0,
          1
         ],
         "title": {
          "text": "barrio"
         }
        },
        "yaxis": {
         "anchor": "x",
         "domain": [
          0,
          1
         ],
         "title": {
          "text": "avg of healthy"
         }
        }
       }
      }
     },
     "metadata": {},
     "output_type": "display_data"
    }
   ],
   "source": [
    "df = px.data.tips()\n",
    "fig = px.histogram(eco, x=\"barrio\", y=\"healthy\", histfunc='avg')\n",
    "fig.show()"
   ]
  },
  {
   "cell_type": "code",
   "execution_count": null,
   "metadata": {},
   "outputs": [],
   "source": []
  },
  {
   "cell_type": "code",
   "execution_count": null,
   "metadata": {},
   "outputs": [],
   "source": []
  }
 ],
 "metadata": {
  "kernelspec": {
   "display_name": "final_proy",
   "language": "python",
   "name": "python3"
  },
  "language_info": {
   "codemirror_mode": {
    "name": "ipython",
    "version": 3
   },
   "file_extension": ".py",
   "mimetype": "text/x-python",
   "name": "python",
   "nbconvert_exporter": "python",
   "pygments_lexer": "ipython3",
   "version": "3.10.9"
  },
  "orig_nbformat": 4
 },
 "nbformat": 4,
 "nbformat_minor": 2
}
