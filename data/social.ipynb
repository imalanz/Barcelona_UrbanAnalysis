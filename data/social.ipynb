{
 "cells": [
  {
   "attachments": {},
   "cell_type": "markdown",
   "metadata": {},
   "source": [
    "# Estadistic and difusion."
   ]
  },
  {
   "cell_type": "code",
   "execution_count": 728,
   "metadata": {},
   "outputs": [],
   "source": [
    "from bs4 import BeautifulSoup \n",
    "import pandas as pd\n",
    "import requests\n",
    "import re\n",
    "import importlib\n",
    "\n",
    "import sys \n",
    "sys.path.append(\"..\\src\")\n",
    "import social as soc\n",
    "importlib.reload(soc)\n",
    "\n",
    "import plotly"
   ]
  },
  {
   "attachments": {},
   "cell_type": "markdown",
   "metadata": {},
   "source": [
    "## Vivienda."
   ]
  },
  {
   "attachments": {},
   "cell_type": "markdown",
   "metadata": {},
   "source": [
    "#### Alquiler. Mercado contractual de alquiler en Barcelona por barrios. 2022."
   ]
  },
  {
   "attachments": {},
   "cell_type": "markdown",
   "metadata": {},
   "source": [
    "Alquiler medio mensual ($/mes)"
   ]
  },
  {
   "cell_type": "code",
   "execution_count": 663,
   "metadata": {},
   "outputs": [],
   "source": [
    "price_housing = 'https://ajuntament.barcelona.cat/estadistica/castella/Estadistiques_per_temes/Habitatge_i_mercat_immobiliari/Mercat_immobiliari/Habitatges_lloguer/a2022/tbarris1.htm'"
   ]
  },
  {
   "cell_type": "code",
   "execution_count": 664,
   "metadata": {},
   "outputs": [],
   "source": [
    "df = soc.scraping_prices (price_housing)\n",
    "df['barri_id'] = range(1, 1+len(df))"
   ]
  },
  {
   "cell_type": "code",
   "execution_count": 665,
   "metadata": {},
   "outputs": [],
   "source": [
    "df = df[df[\"3er trimestre\"] != \"nd\"]\n",
    "df = df[df[\"1er trimestre\"] != \"nd\"]"
   ]
  },
  {
   "cell_type": "code",
   "execution_count": 666,
   "metadata": {},
   "outputs": [
    {
     "data": {
      "text/html": [
       "<div>\n",
       "<style scoped>\n",
       "    .dataframe tbody tr th:only-of-type {\n",
       "        vertical-align: middle;\n",
       "    }\n",
       "\n",
       "    .dataframe tbody tr th {\n",
       "        vertical-align: top;\n",
       "    }\n",
       "\n",
       "    .dataframe thead th {\n",
       "        text-align: right;\n",
       "    }\n",
       "</style>\n",
       "<table border=\"1\" class=\"dataframe\">\n",
       "  <thead>\n",
       "    <tr style=\"text-align: right;\">\n",
       "      <th></th>\n",
       "      <th>district_id</th>\n",
       "      <th>barri</th>\n",
       "      <th>1er trimestre</th>\n",
       "      <th>2do trimestre</th>\n",
       "      <th>3er trimestre</th>\n",
       "      <th>barri_id</th>\n",
       "    </tr>\n",
       "  </thead>\n",
       "  <tbody>\n",
       "    <tr>\n",
       "      <th>14</th>\n",
       "      <td>31</td>\n",
       "      <td>Hostafrancs</td>\n",
       "      <td>835,7</td>\n",
       "      <td>826,2</td>\n",
       "      <td>910,5</td>\n",
       "      <td>15</td>\n",
       "    </tr>\n",
       "  </tbody>\n",
       "</table>\n",
       "</div>"
      ],
      "text/plain": [
       "   district_id         barri 1er trimestre 2do trimestre 3er trimestre  \\\n",
       "14          31   Hostafrancs         835,7         826,2         910,5   \n",
       "\n",
       "    barri_id  \n",
       "14        15  "
      ]
     },
     "execution_count": 666,
     "metadata": {},
     "output_type": "execute_result"
    }
   ],
   "source": [
    "df.sample()"
   ]
  },
  {
   "cell_type": "code",
   "execution_count": 667,
   "metadata": {},
   "outputs": [],
   "source": [
    "df[\"1er trimestre\"] = df[\"1er trimestre\"].apply(lambda x: x.split (\",\")[0].replace(\".\",\"\")).astype(int)\n",
    "df[\"2do trimestre\"] = df[\"2do trimestre\"].apply(lambda x: x.split (\",\")[0].replace(\".\",\"\")).astype(int)\n",
    "df[\"3er trimestre\"] = df[\"3er trimestre\"].apply(lambda x: x.split (\",\")[0].replace(\".\",\"\")).astype(int)"
   ]
  },
  {
   "cell_type": "code",
   "execution_count": 668,
   "metadata": {},
   "outputs": [],
   "source": [
    "mean = df[[\"1er trimestre\", \"2do trimestre\", \"3er trimestre\"]].mean(axis=1)\n",
    "df[\"total\"] = mean\n"
   ]
  },
  {
   "cell_type": "code",
   "execution_count": 669,
   "metadata": {},
   "outputs": [
    {
     "data": {
      "text/html": [
       "<div>\n",
       "<style scoped>\n",
       "    .dataframe tbody tr th:only-of-type {\n",
       "        vertical-align: middle;\n",
       "    }\n",
       "\n",
       "    .dataframe tbody tr th {\n",
       "        vertical-align: top;\n",
       "    }\n",
       "\n",
       "    .dataframe thead th {\n",
       "        text-align: right;\n",
       "    }\n",
       "</style>\n",
       "<table border=\"1\" class=\"dataframe\">\n",
       "  <thead>\n",
       "    <tr style=\"text-align: right;\">\n",
       "      <th></th>\n",
       "      <th>district_id</th>\n",
       "      <th>barri</th>\n",
       "      <th>1er trimestre</th>\n",
       "      <th>2do trimestre</th>\n",
       "      <th>3er trimestre</th>\n",
       "      <th>barri_id</th>\n",
       "      <th>total</th>\n",
       "    </tr>\n",
       "  </thead>\n",
       "  <tbody>\n",
       "    <tr>\n",
       "      <th>0</th>\n",
       "      <td>1</td>\n",
       "      <td>el Raval</td>\n",
       "      <td>917</td>\n",
       "      <td>872</td>\n",
       "      <td>928</td>\n",
       "      <td>1</td>\n",
       "      <td>905.666667</td>\n",
       "    </tr>\n",
       "    <tr>\n",
       "      <th>1</th>\n",
       "      <td>1</td>\n",
       "      <td>el Barri Gòtic</td>\n",
       "      <td>1181</td>\n",
       "      <td>1062</td>\n",
       "      <td>1111</td>\n",
       "      <td>2</td>\n",
       "      <td>1118.000000</td>\n",
       "    </tr>\n",
       "    <tr>\n",
       "      <th>2</th>\n",
       "      <td>1</td>\n",
       "      <td>la Barceloneta</td>\n",
       "      <td>999</td>\n",
       "      <td>900</td>\n",
       "      <td>922</td>\n",
       "      <td>3</td>\n",
       "      <td>940.333333</td>\n",
       "    </tr>\n",
       "    <tr>\n",
       "      <th>3</th>\n",
       "      <td>1</td>\n",
       "      <td>Sant Pere, Santa Caterina i la Ribera</td>\n",
       "      <td>1022</td>\n",
       "      <td>1051</td>\n",
       "      <td>1084</td>\n",
       "      <td>4</td>\n",
       "      <td>1052.333333</td>\n",
       "    </tr>\n",
       "    <tr>\n",
       "      <th>4</th>\n",
       "      <td>2</td>\n",
       "      <td>el Fort Pienc</td>\n",
       "      <td>957</td>\n",
       "      <td>1106</td>\n",
       "      <td>1118</td>\n",
       "      <td>5</td>\n",
       "      <td>1060.333333</td>\n",
       "    </tr>\n",
       "    <tr>\n",
       "      <th>...</th>\n",
       "      <td>...</td>\n",
       "      <td>...</td>\n",
       "      <td>...</td>\n",
       "      <td>...</td>\n",
       "      <td>...</td>\n",
       "      <td>...</td>\n",
       "      <td>...</td>\n",
       "    </tr>\n",
       "    <tr>\n",
       "      <th>68</th>\n",
       "      <td>10</td>\n",
       "      <td>Diagonal Mar i el Front Marítim del Poblenou</td>\n",
       "      <td>964</td>\n",
       "      <td>1238</td>\n",
       "      <td>1354</td>\n",
       "      <td>69</td>\n",
       "      <td>1185.333333</td>\n",
       "    </tr>\n",
       "    <tr>\n",
       "      <th>69</th>\n",
       "      <td>10</td>\n",
       "      <td>el Besòs i el Maresme</td>\n",
       "      <td>796</td>\n",
       "      <td>779</td>\n",
       "      <td>761</td>\n",
       "      <td>70</td>\n",
       "      <td>778.666667</td>\n",
       "    </tr>\n",
       "    <tr>\n",
       "      <th>70</th>\n",
       "      <td>10</td>\n",
       "      <td>Provençals del Poblenou</td>\n",
       "      <td>939</td>\n",
       "      <td>1032</td>\n",
       "      <td>1059</td>\n",
       "      <td>71</td>\n",
       "      <td>1010.000000</td>\n",
       "    </tr>\n",
       "    <tr>\n",
       "      <th>71</th>\n",
       "      <td>10</td>\n",
       "      <td>Sant Martí de Provençals</td>\n",
       "      <td>796</td>\n",
       "      <td>843</td>\n",
       "      <td>1158</td>\n",
       "      <td>72</td>\n",
       "      <td>932.333333</td>\n",
       "    </tr>\n",
       "    <tr>\n",
       "      <th>72</th>\n",
       "      <td>10</td>\n",
       "      <td>la Verneda i la Pau</td>\n",
       "      <td>733</td>\n",
       "      <td>757</td>\n",
       "      <td>775</td>\n",
       "      <td>73</td>\n",
       "      <td>755.000000</td>\n",
       "    </tr>\n",
       "  </tbody>\n",
       "</table>\n",
       "<p>66 rows × 7 columns</p>\n",
       "</div>"
      ],
      "text/plain": [
       "   district_id                                          barri  1er trimestre  \\\n",
       "0            1                                       el Raval            917   \n",
       "1            1                                 el Barri Gòtic           1181   \n",
       "2            1                                 la Barceloneta            999   \n",
       "3            1          Sant Pere, Santa Caterina i la Ribera           1022   \n",
       "4            2                                  el Fort Pienc            957   \n",
       "..         ...                                            ...            ...   \n",
       "68          10   Diagonal Mar i el Front Marítim del Poblenou            964   \n",
       "69          10                          el Besòs i el Maresme            796   \n",
       "70          10                        Provençals del Poblenou            939   \n",
       "71          10                       Sant Martí de Provençals            796   \n",
       "72          10                            la Verneda i la Pau            733   \n",
       "\n",
       "    2do trimestre  3er trimestre  barri_id        total  \n",
       "0             872            928         1   905.666667  \n",
       "1            1062           1111         2  1118.000000  \n",
       "2             900            922         3   940.333333  \n",
       "3            1051           1084         4  1052.333333  \n",
       "4            1106           1118         5  1060.333333  \n",
       "..            ...            ...       ...          ...  \n",
       "68           1238           1354        69  1185.333333  \n",
       "69            779            761        70   778.666667  \n",
       "70           1032           1059        71  1010.000000  \n",
       "71            843           1158        72   932.333333  \n",
       "72            757            775        73   755.000000  \n",
       "\n",
       "[66 rows x 7 columns]"
      ]
     },
     "execution_count": 669,
     "metadata": {},
     "output_type": "execute_result"
    }
   ],
   "source": [
    "df"
   ]
  },
  {
   "cell_type": "code",
   "execution_count": 670,
   "metadata": {},
   "outputs": [],
   "source": [
    "df.to_csv(\"D:\\ironhack\\proyectos\\Barcelona_UrbanAnalysis\\csv_from_python\\\\social\\\\housing_price.csv\", index=False)"
   ]
  },
  {
   "attachments": {},
   "cell_type": "markdown",
   "metadata": {},
   "source": [
    "## Indice socioeconomico.\n",
    "#### Indice socioeconomico territorial (IST). 2015-2019"
   ]
  },
  {
   "attachments": {},
   "cell_type": "markdown",
   "metadata": {},
   "source": [
    "promedio del valor socioeconomico. no tiene num valor."
   ]
  },
  {
   "cell_type": "code",
   "execution_count": 671,
   "metadata": {},
   "outputs": [],
   "source": [
    "sociecon = \"https://ajuntament.barcelona.cat/estadistica/castella/Estadistiques_per_temes/Societat_i_condicions_de_vida/Condicions_de_vida/Index_socioeconomic/f01.htm\""
   ]
  },
  {
   "cell_type": "code",
   "execution_count": 672,
   "metadata": {},
   "outputs": [],
   "source": [
    "socioec = soc.scraping_sociecon (sociecon)"
   ]
  },
  {
   "cell_type": "code",
   "execution_count": 673,
   "metadata": {},
   "outputs": [],
   "source": [
    "socioec[\"barri\"] = socioec[\"barri\"].apply(lambda x: x.replace(\"ñ\", \"o\"))"
   ]
  },
  {
   "cell_type": "code",
   "execution_count": 674,
   "metadata": {},
   "outputs": [],
   "source": [
    "socioec['barri_id'] = range(1, 1+len(socioec))"
   ]
  },
  {
   "cell_type": "code",
   "execution_count": 675,
   "metadata": {},
   "outputs": [
    {
     "data": {
      "text/html": [
       "<div>\n",
       "<style scoped>\n",
       "    .dataframe tbody tr th:only-of-type {\n",
       "        vertical-align: middle;\n",
       "    }\n",
       "\n",
       "    .dataframe tbody tr th {\n",
       "        vertical-align: top;\n",
       "    }\n",
       "\n",
       "    .dataframe thead th {\n",
       "        text-align: right;\n",
       "    }\n",
       "</style>\n",
       "<table border=\"1\" class=\"dataframe\">\n",
       "  <thead>\n",
       "    <tr style=\"text-align: right;\">\n",
       "      <th></th>\n",
       "      <th>district_id</th>\n",
       "      <th>barri</th>\n",
       "      <th>2015</th>\n",
       "      <th>2016</th>\n",
       "      <th>2017</th>\n",
       "      <th>2018</th>\n",
       "      <th>2019</th>\n",
       "      <th>barri_id</th>\n",
       "    </tr>\n",
       "  </thead>\n",
       "  <tbody>\n",
       "    <tr>\n",
       "      <th>0</th>\n",
       "      <td>1</td>\n",
       "      <td>el Raval</td>\n",
       "      <td>72,1</td>\n",
       "      <td>73,1</td>\n",
       "      <td>74,0</td>\n",
       "      <td>76,0</td>\n",
       "      <td>77,4</td>\n",
       "      <td>1</td>\n",
       "    </tr>\n",
       "    <tr>\n",
       "      <th>1</th>\n",
       "      <td>1</td>\n",
       "      <td>el Barri Gňtic</td>\n",
       "      <td>96,7</td>\n",
       "      <td>96,9</td>\n",
       "      <td>95,0</td>\n",
       "      <td>90,9</td>\n",
       "      <td>83,9</td>\n",
       "      <td>2</td>\n",
       "    </tr>\n",
       "    <tr>\n",
       "      <th>2</th>\n",
       "      <td>1</td>\n",
       "      <td>la Barceloneta</td>\n",
       "      <td>93,3</td>\n",
       "      <td>95,1</td>\n",
       "      <td>95,1</td>\n",
       "      <td>95,4</td>\n",
       "      <td>95,6</td>\n",
       "      <td>3</td>\n",
       "    </tr>\n",
       "    <tr>\n",
       "      <th>3</th>\n",
       "      <td>1</td>\n",
       "      <td>Sant Pere, Santa Caterina i la Ribera</td>\n",
       "      <td>98,8</td>\n",
       "      <td>99,6</td>\n",
       "      <td>99,7</td>\n",
       "      <td>100,6</td>\n",
       "      <td>101,3</td>\n",
       "      <td>4</td>\n",
       "    </tr>\n",
       "    <tr>\n",
       "      <th>4</th>\n",
       "      <td>2</td>\n",
       "      <td>el Fort Pienc</td>\n",
       "      <td>113,7</td>\n",
       "      <td>114,0</td>\n",
       "      <td>112,9</td>\n",
       "      <td>113,2</td>\n",
       "      <td>112,2</td>\n",
       "      <td>5</td>\n",
       "    </tr>\n",
       "    <tr>\n",
       "      <th>...</th>\n",
       "      <td>...</td>\n",
       "      <td>...</td>\n",
       "      <td>...</td>\n",
       "      <td>...</td>\n",
       "      <td>...</td>\n",
       "      <td>...</td>\n",
       "      <td>...</td>\n",
       "      <td>...</td>\n",
       "    </tr>\n",
       "    <tr>\n",
       "      <th>67</th>\n",
       "      <td>10</td>\n",
       "      <td>el Poblenou</td>\n",
       "      <td>112,2</td>\n",
       "      <td>113,0</td>\n",
       "      <td>113,1</td>\n",
       "      <td>114,0</td>\n",
       "      <td>114,0</td>\n",
       "      <td>68</td>\n",
       "    </tr>\n",
       "    <tr>\n",
       "      <th>68</th>\n",
       "      <td>10</td>\n",
       "      <td>Diagonal Mar i el Front Marítim del Poblenou</td>\n",
       "      <td>118,8</td>\n",
       "      <td>119,1</td>\n",
       "      <td>118,3</td>\n",
       "      <td>117,1</td>\n",
       "      <td>116,4</td>\n",
       "      <td>69</td>\n",
       "    </tr>\n",
       "    <tr>\n",
       "      <th>69</th>\n",
       "      <td>10</td>\n",
       "      <td>el Besňs i el Maresme</td>\n",
       "      <td>78,0</td>\n",
       "      <td>78,5</td>\n",
       "      <td>78,5</td>\n",
       "      <td>77,3</td>\n",
       "      <td>75,2</td>\n",
       "      <td>70</td>\n",
       "    </tr>\n",
       "    <tr>\n",
       "      <th>70</th>\n",
       "      <td>10</td>\n",
       "      <td>Provençals del Poblenou</td>\n",
       "      <td>107,5</td>\n",
       "      <td>107,6</td>\n",
       "      <td>107,7</td>\n",
       "      <td>107,9</td>\n",
       "      <td>107,6</td>\n",
       "      <td>71</td>\n",
       "    </tr>\n",
       "    <tr>\n",
       "      <th>71</th>\n",
       "      <td>10</td>\n",
       "      <td>Sant Martí de Provençals</td>\n",
       "      <td>104,3</td>\n",
       "      <td>104,7</td>\n",
       "      <td>103,9</td>\n",
       "      <td>104,3</td>\n",
       "      <td>103,5</td>\n",
       "      <td>72</td>\n",
       "    </tr>\n",
       "  </tbody>\n",
       "</table>\n",
       "<p>72 rows × 8 columns</p>\n",
       "</div>"
      ],
      "text/plain": [
       "   district_id                                          barri   2015   2016  \\\n",
       "0            1                                       el Raval   72,1   73,1   \n",
       "1            1                                 el Barri Gňtic   96,7   96,9   \n",
       "2            1                                 la Barceloneta   93,3   95,1   \n",
       "3            1          Sant Pere, Santa Caterina i la Ribera   98,8   99,6   \n",
       "4            2                                  el Fort Pienc  113,7  114,0   \n",
       "..         ...                                            ...    ...    ...   \n",
       "67          10                                    el Poblenou  112,2  113,0   \n",
       "68          10   Diagonal Mar i el Front Marítim del Poblenou  118,8  119,1   \n",
       "69          10                          el Besňs i el Maresme   78,0   78,5   \n",
       "70          10                        Provençals del Poblenou  107,5  107,6   \n",
       "71          10                       Sant Martí de Provençals  104,3  104,7   \n",
       "\n",
       "     2017   2018   2019  barri_id  \n",
       "0    74,0   76,0   77,4         1  \n",
       "1    95,0   90,9   83,9         2  \n",
       "2    95,1   95,4   95,6         3  \n",
       "3    99,7  100,6  101,3         4  \n",
       "4   112,9  113,2  112,2         5  \n",
       "..    ...    ...    ...       ...  \n",
       "67  113,1  114,0  114,0        68  \n",
       "68  118,3  117,1  116,4        69  \n",
       "69   78,5   77,3   75,2        70  \n",
       "70  107,7  107,9  107,6        71  \n",
       "71  103,9  104,3  103,5        72  \n",
       "\n",
       "[72 rows x 8 columns]"
      ]
     },
     "execution_count": 675,
     "metadata": {},
     "output_type": "execute_result"
    }
   ],
   "source": [
    "socioec"
   ]
  },
  {
   "cell_type": "code",
   "execution_count": 676,
   "metadata": {},
   "outputs": [],
   "source": [
    "socioec.to_csv(\"D:\\ironhack\\proyectos\\Barcelona_UrbanAnalysis\\csv_from_python\\\\social\\\\nivel_socioeconomi.csv\", index=False)"
   ]
  },
  {
   "attachments": {},
   "cell_type": "markdown",
   "metadata": {},
   "source": [
    "## Seguridad."
   ]
  },
  {
   "attachments": {},
   "cell_type": "markdown",
   "metadata": {},
   "source": [
    "### Denuncias policia Urbana."
   ]
  },
  {
   "attachments": {},
   "cell_type": "markdown",
   "metadata": {},
   "source": [
    "#### sistema de seguridad publica.\n",
    "Indicadores por distritos. 2020"
   ]
  },
  {
   "attachments": {},
   "cell_type": "markdown",
   "metadata": {},
   "source": [
    "#### Actuaciones de ayuda y asistencia por distritos."
   ]
  },
  {
   "cell_type": "code",
   "execution_count": 755,
   "metadata": {},
   "outputs": [],
   "source": [
    "ayuda = \"https://ajuntament.barcelona.cat/estadistica/castella/Estadistiques_per_temes/Societat_i_condicions_de_vida/Seguretat_i_prevencio/Guardia_urbana/t37.htm\""
   ]
  },
  {
   "attachments": {},
   "cell_type": "markdown",
   "metadata": {},
   "source": [
    "1. posiblemente eliminar las incidencias que no tienen mucho que ver con la seguridad como las ayudas por accidentes con el clima etc. \n",
    "2. crear un total de las incidencias ya limpias por distrito\n",
    "3. separar por tipo de incidencias."
   ]
  },
  {
   "cell_type": "code",
   "execution_count": 736,
   "metadata": {},
   "outputs": [
    {
     "data": {
      "text/plain": [
       "'https://ajuntament.barcelona.cat/estadistica/castella/Estadistiques_per_temes/Societat_i_condicions_de_vida/Seguretat_i_prevencio/Guardia_urbana/t37.htm'"
      ]
     },
     "execution_count": 736,
     "metadata": {},
     "output_type": "execute_result"
    }
   ],
   "source": [
    "ayuda"
   ]
  },
  {
   "cell_type": "code",
   "execution_count": 756,
   "metadata": {},
   "outputs": [],
   "source": [
    "ayuda = soc.pol_urbana_ayuda (ayuda)"
   ]
  },
  {
   "cell_type": "code",
   "execution_count": 739,
   "metadata": {},
   "outputs": [
    {
     "ename": "AttributeError",
     "evalue": "'Index' object has no attribute 'apply'",
     "output_type": "error",
     "traceback": [
      "\u001b[1;31m---------------------------------------------------------------------------\u001b[0m",
      "\u001b[1;31mAttributeError\u001b[0m                            Traceback (most recent call last)",
      "Cell \u001b[1;32mIn[739], line 1\u001b[0m\n\u001b[1;32m----> 1\u001b[0m ayuda\u001b[39m.\u001b[39mcolumns \u001b[39m=\u001b[39m ayuda\u001b[39m.\u001b[39;49mcolumns\u001b[39m.\u001b[39;49mapply(\u001b[39mlambda\u001b[39;00m x: x\u001b[39m.\u001b[39msplit (\u001b[39m\"\u001b[39m\u001b[39m.\u001b[39m\u001b[39m\"\u001b[39m)[\u001b[39m1\u001b[39m])\n",
      "\u001b[1;31mAttributeError\u001b[0m: 'Index' object has no attribute 'apply'"
     ]
    }
   ],
   "source": [
    "ayuda.columns = ayuda.columns.apply(lambda x: x.split (\".\")[1])"
   ]
  },
  {
   "cell_type": "code",
   "execution_count": 741,
   "metadata": {},
   "outputs": [
    {
     "data": {
      "text/html": [
       "<div>\n",
       "<style scoped>\n",
       "    .dataframe tbody tr th:only-of-type {\n",
       "        vertical-align: middle;\n",
       "    }\n",
       "\n",
       "    .dataframe tbody tr th {\n",
       "        vertical-align: top;\n",
       "    }\n",
       "\n",
       "    .dataframe thead th {\n",
       "        text-align: right;\n",
       "    }\n",
       "</style>\n",
       "<table border=\"1\" class=\"dataframe\">\n",
       "  <thead>\n",
       "    <tr style=\"text-align: right;\">\n",
       "      <th></th>\n",
       "      <th>Incidencias</th>\n",
       "      <th>Barcelona</th>\n",
       "      <th>1.Ciutat Vella</th>\n",
       "      <th>2.L'Eixample</th>\n",
       "      <th>3.Sants-Monjuïc</th>\n",
       "      <th>4.Les Corts</th>\n",
       "      <th>5.Sarrià-Sant Gervasi</th>\n",
       "      <th>6.Gràcia</th>\n",
       "      <th>7.Horta-Guiardó</th>\n",
       "      <th>8.Nou Barris</th>\n",
       "      <th>9.Sant Andreu</th>\n",
       "      <th>10.Sant Martí</th>\n",
       "    </tr>\n",
       "  </thead>\n",
       "  <tbody>\n",
       "    <tr>\n",
       "      <th>6</th>\n",
       "      <td>Infracciones en movimiento</td>\n",
       "      <td>15.389</td>\n",
       "      <td>2.382</td>\n",
       "      <td>3.622</td>\n",
       "      <td>1.406</td>\n",
       "      <td>512</td>\n",
       "      <td>1.181</td>\n",
       "      <td>660</td>\n",
       "      <td>996</td>\n",
       "      <td>1.189</td>\n",
       "      <td>962</td>\n",
       "      <td>1.661</td>\n",
       "    </tr>\n",
       "  </tbody>\n",
       "</table>\n",
       "</div>"
      ],
      "text/plain": [
       "                  Incidencias Barcelona 1.Ciutat Vella 2.L'Eixample  \\\n",
       "6  Infracciones en movimiento    15.389          2.382        3.622   \n",
       "\n",
       "  3.Sants-Monjuïc 4.Les Corts 5.Sarrià-Sant Gervasi 6.Gràcia 7.Horta-Guiardó  \\\n",
       "6           1.406         512                 1.181      660             996   \n",
       "\n",
       "  8.Nou Barris 9.Sant Andreu 10.Sant Martí  \n",
       "6        1.189           962         1.661  "
      ]
     },
     "execution_count": 741,
     "metadata": {},
     "output_type": "execute_result"
    }
   ],
   "source": [
    "ayuda.sample()"
   ]
  },
  {
   "cell_type": "code",
   "execution_count": 757,
   "metadata": {},
   "outputs": [],
   "source": [
    "ayuda.rename(columns={\"1.Ciutat Vella\":\"Ciutat Vella\", \"2.L'Eixample\":\"L'Eixample\",\t\"3.Sants-Monjuïc\":\"Sants-Monjuïc\",\t\"4.Les Corts\":\"Les Corts\",\t\"5.Sarrià-Sant Gervasi\":\"Sarrià-Sant Gervasi\",\t\"6.Gràcia\":\"Gràcia\",\t\"7.Horta-Guiardó\":\"Horta-Guiardó\",\t\"8.Nou Barris\":\"Nou Barris\",\t\"9.Sant Andreu\":\"Sant Andreu\",\t\"10.Sant Martí\":\"Sant Martí\"}, inplace=True)"
   ]
  },
  {
   "cell_type": "code",
   "execution_count": 760,
   "metadata": {},
   "outputs": [],
   "source": [
    "ayuda[\"personal\"] = \"guardia urbana\""
   ]
  },
  {
   "cell_type": "code",
   "execution_count": 761,
   "metadata": {},
   "outputs": [],
   "source": [
    "ayuda.to_csv(\"D:\\ironhack\\proyectos\\Barcelona_UrbanAnalysis\\csv_from_python\\stramlit\\guardia.csv\", index=False)"
   ]
  },
  {
   "cell_type": "code",
   "execution_count": 731,
   "metadata": {},
   "outputs": [],
   "source": [
    "for i, row in ayuda.iterrows():\n",
    "    if row[0] == \"Fugas-productos químicos\":\n",
    "        ayuda.drop(i, inplace=True)\n",
    "    if row[0] == \"Asistencia a personas en espacios públicos\":\n",
    "        ayuda.drop(i, inplace=True)\n",
    "    if row[0] == \"Infracciones por estacionamientos\":\n",
    "        ayuda.drop(i, inplace=True)    \n",
    "    if row[0] == \"Desconocidos\":\n",
    "        ayuda.drop(i, inplace=True)\n",
    "    if row[0] == \"Desconocido\":\n",
    "        ayuda.drop(i, inplace=True)\n",
    "    if row[0] == \"Molestias por generadores\":\n",
    "        ayuda.drop(i, inplace=True)    \n",
    "    if row[0] == \"Hogueras/barbacoas\":\n",
    "        ayuda.drop(i, inplace=True)\n",
    "    if row[0] == \"Lluvia torrencial\":\n",
    "        ayuda.drop(i, inplace=True)\n",
    "    if row[0] == \"Otras actuaciones en medio ambiente\":\n",
    "        ayuda.drop(i, inplace=True)\n",
    "    if row[0] == \"Vientos fuertes\": \n",
    "        ayuda.drop(i, inplace=True)\n",
    "    if row[0] == \"Accidente procedente pasarela CME\": \n",
    "        ayuda.drop(i, inplace=True)\n",
    "    if row[0] == \"Vigilancia policial\": \n",
    "        ayuda.drop(i, inplace=True)\n",
    "    if row[0] == \"Otras intervenciones de Policía administrativa\": \n",
    "        ayuda.drop(i, inplace=True)\n",
    "    if row[0] == \"Seńales automatizadas\": \n",
    "        ayuda.drop(i, inplace=True)\n",
    "    if row[0] == \"Controles de tráfico\": \n",
    "        ayuda.drop(i, inplace=True)    \n",
    "    if row[0] == \"Obras/ trabajos en espacios públicos\": \n",
    "        ayuda.drop(i, inplace=True)\n",
    "    if row[0] == \"Asistencia a enfermos mentales\": \n",
    "        ayuda.drop(i, inplace=True)\n",
    "    if row[0] == \"Asistencia en las playas\": \n",
    "        ayuda.drop(i, inplace=True)    \n",
    "    if row[0] == \"Nieve y hielo\": \n",
    "        ayuda.drop(i, inplace=True)\n",
    "    if row[0] == \"Contra los derechos de los trabajadores\": \n",
    "        ayuda.drop(i, inplace=True)  \n",
    "    if row[0] == \"Caza/pesca/flora/fauna\": \n",
    "        ayuda.drop(i, inplace=True)\n",
    "    if row[0] == \"'Accidentes de tráfico con heridos'\": \n",
    "        ayuda.drop(i, inplace=True)\n",
    "    if row[0] == \"Soportes tráfico\": \n",
    "        ayuda.drop(i, inplace=True)  \n",
    "    if row[0] == \"Incidencias con afectación de vía\": \n",
    "        ayuda.drop(i, inplace=True)\n",
    "    if row[0] == \"Accidentes de tráfico sin heridos\": \n",
    "        ayuda.drop(i, inplace=True)\n",
    "    if row[0] == \"Incidencias con peligro por el tráfico\": \n",
    "        ayuda.drop(i, inplace=True)\n",
    "    if row[0] == \"Restricciones temporales de tráfico\": \n",
    "        ayuda.drop(i, inplace=True)\n",
    "    if row[0] == \"Traslados de vehículos sin infracción\": \n",
    "        ayuda.drop(i, inplace=True)\n",
    "    if row[0] == \"Infracciones en movimiento (vehículos)\": \n",
    "        ayuda.drop(i, inplace=True)\n"
   ]
  },
  {
   "cell_type": "code",
   "execution_count": 732,
   "metadata": {},
   "outputs": [],
   "source": [
    "df = ayuda.melt()\n",
    "df = df[pd.to_numeric(df[\"value\"], errors=\"coerce\").notnull()]\n",
    "df[\"x\"] = df[\"value\"].apply(lambda x: x.split (\",\")[0].replace(\"'\",\"\")).astype(float)\n",
    "\n",
    "df[\"x\"] = df[\"x\"].astype(int)\n",
    "ayuda = df[[\"variable\", \"x\"]].groupby(by=\"variable\").agg(\"sum\")"
   ]
  },
  {
   "cell_type": "code",
   "execution_count": 733,
   "metadata": {},
   "outputs": [],
   "source": [
    "urbana = ayuda.reset_index().rename(columns={\"index\":\"district\"})\n",
    "urbana[\"district_id\"] = urbana[\"variable\"].apply(lambda x: x.split(\".\")[0])\n",
    "urbana.drop(index=10, inplace=True)\n",
    "urbana[\"district\"] = urbana[\"variable\"].apply(lambda x: x.split(\".\")[1])\n",
    "urbana.drop(columns=[\"variable\"], inplace=True)\n",
    "urbana.rename(columns={\"variable\":\"district\", \"x\":\"guardia_urbana\"}, inplace=True)"
   ]
  },
  {
   "cell_type": "code",
   "execution_count": 734,
   "metadata": {},
   "outputs": [
    {
     "data": {
      "text/html": [
       "<div>\n",
       "<style scoped>\n",
       "    .dataframe tbody tr th:only-of-type {\n",
       "        vertical-align: middle;\n",
       "    }\n",
       "\n",
       "    .dataframe tbody tr th {\n",
       "        vertical-align: top;\n",
       "    }\n",
       "\n",
       "    .dataframe thead th {\n",
       "        text-align: right;\n",
       "    }\n",
       "</style>\n",
       "<table border=\"1\" class=\"dataframe\">\n",
       "  <thead>\n",
       "    <tr style=\"text-align: right;\">\n",
       "      <th></th>\n",
       "      <th>guardia_urbana</th>\n",
       "      <th>district_id</th>\n",
       "      <th>district</th>\n",
       "    </tr>\n",
       "  </thead>\n",
       "  <tbody>\n",
       "    <tr>\n",
       "      <th>0</th>\n",
       "      <td>8723</td>\n",
       "      <td>1</td>\n",
       "      <td>Ciutat Vella</td>\n",
       "    </tr>\n",
       "    <tr>\n",
       "      <th>1</th>\n",
       "      <td>8894</td>\n",
       "      <td>10</td>\n",
       "      <td>Sant Martí</td>\n",
       "    </tr>\n",
       "    <tr>\n",
       "      <th>2</th>\n",
       "      <td>9663</td>\n",
       "      <td>2</td>\n",
       "      <td>L'Eixample</td>\n",
       "    </tr>\n",
       "    <tr>\n",
       "      <th>3</th>\n",
       "      <td>7479</td>\n",
       "      <td>3</td>\n",
       "      <td>Sants-Monjuïc</td>\n",
       "    </tr>\n",
       "    <tr>\n",
       "      <th>4</th>\n",
       "      <td>4831</td>\n",
       "      <td>4</td>\n",
       "      <td>Les Corts</td>\n",
       "    </tr>\n",
       "    <tr>\n",
       "      <th>5</th>\n",
       "      <td>5413</td>\n",
       "      <td>5</td>\n",
       "      <td>Sarrià-Sant Gervasi</td>\n",
       "    </tr>\n",
       "    <tr>\n",
       "      <th>6</th>\n",
       "      <td>5323</td>\n",
       "      <td>6</td>\n",
       "      <td>Gràcia</td>\n",
       "    </tr>\n",
       "    <tr>\n",
       "      <th>7</th>\n",
       "      <td>7081</td>\n",
       "      <td>7</td>\n",
       "      <td>Horta-Guiardó</td>\n",
       "    </tr>\n",
       "    <tr>\n",
       "      <th>8</th>\n",
       "      <td>7434</td>\n",
       "      <td>8</td>\n",
       "      <td>Nou Barris</td>\n",
       "    </tr>\n",
       "    <tr>\n",
       "      <th>9</th>\n",
       "      <td>7010</td>\n",
       "      <td>9</td>\n",
       "      <td>Sant Andreu</td>\n",
       "    </tr>\n",
       "  </tbody>\n",
       "</table>\n",
       "</div>"
      ],
      "text/plain": [
       "   guardia_urbana district_id             district\n",
       "0            8723           1         Ciutat Vella\n",
       "1            8894          10           Sant Martí\n",
       "2            9663           2           L'Eixample\n",
       "3            7479           3        Sants-Monjuïc\n",
       "4            4831           4            Les Corts\n",
       "5            5413           5  Sarrià-Sant Gervasi\n",
       "6            5323           6               Gràcia\n",
       "7            7081           7        Horta-Guiardó\n",
       "8            7434           8           Nou Barris\n",
       "9            7010           9          Sant Andreu"
      ]
     },
     "execution_count": 734,
     "metadata": {},
     "output_type": "execute_result"
    }
   ],
   "source": [
    "urbana"
   ]
  },
  {
   "cell_type": "code",
   "execution_count": 719,
   "metadata": {},
   "outputs": [],
   "source": [
    "urbana.to_csv(\"D:\\ironhack\\proyectos\\Barcelona_UrbanAnalysis\\csv_from_python\\\\social\\\\guardia_urbana.csv\", index=False)"
   ]
  },
  {
   "attachments": {},
   "cell_type": "markdown",
   "metadata": {},
   "source": [
    "vialidad"
   ]
  },
  {
   "cell_type": "code",
   "execution_count": 707,
   "metadata": {},
   "outputs": [],
   "source": [
    "exclude_strs = ['vía', 'tráfico', 'vehículos']\n",
    "pattern = '|'.join(exclude_strs)\n",
    "mask = ayuda['Incidencias'].str.contains(pattern)\n",
    "df = ayuda.loc[mask]"
   ]
  },
  {
   "cell_type": "code",
   "execution_count": 708,
   "metadata": {},
   "outputs": [],
   "source": [
    "df = ayuda.melt()\n",
    "df = df[pd.to_numeric(df[\"value\"], errors=\"coerce\").notnull()]\n",
    "df[\"x\"] = df[\"value\"].apply(lambda x: x.split (\",\")[0].replace(\"'\",\"\")).astype(float)\n",
    "\n",
    "df[\"x\"] = df[\"x\"].astype(int)\n",
    "x = df[[\"variable\", \"x\"]].groupby(by=\"variable\").agg(\"sum\")"
   ]
  },
  {
   "cell_type": "code",
   "execution_count": 709,
   "metadata": {},
   "outputs": [],
   "source": [
    "vial = x.reset_index().rename(columns={\"index\":\"district\"})"
   ]
  },
  {
   "cell_type": "code",
   "execution_count": 710,
   "metadata": {},
   "outputs": [],
   "source": [
    "vial[\"district_id\"] = vial[\"variable\"].apply(lambda x: x.split(\".\")[0])\n",
    "vial.drop(index=10, inplace=True)\n",
    "vial[\"district\"] = vial[\"variable\"].apply(lambda x: x.split(\".\")[1])\n",
    "vial.drop(columns=[\"variable\"], inplace=True)\n",
    "vial.rename(columns={\"variable\":\"district\", \"x\":\"inf_viales\"}, inplace=True)"
   ]
  },
  {
   "cell_type": "code",
   "execution_count": 711,
   "metadata": {},
   "outputs": [
    {
     "data": {
      "text/html": [
       "<div>\n",
       "<style scoped>\n",
       "    .dataframe tbody tr th:only-of-type {\n",
       "        vertical-align: middle;\n",
       "    }\n",
       "\n",
       "    .dataframe tbody tr th {\n",
       "        vertical-align: top;\n",
       "    }\n",
       "\n",
       "    .dataframe thead th {\n",
       "        text-align: right;\n",
       "    }\n",
       "</style>\n",
       "<table border=\"1\" class=\"dataframe\">\n",
       "  <thead>\n",
       "    <tr style=\"text-align: right;\">\n",
       "      <th></th>\n",
       "      <th>inf_viales</th>\n",
       "      <th>district_id</th>\n",
       "      <th>district</th>\n",
       "    </tr>\n",
       "  </thead>\n",
       "  <tbody>\n",
       "    <tr>\n",
       "      <th>0</th>\n",
       "      <td>11865</td>\n",
       "      <td>1</td>\n",
       "      <td>Ciutat Vella</td>\n",
       "    </tr>\n",
       "    <tr>\n",
       "      <th>1</th>\n",
       "      <td>11742</td>\n",
       "      <td>10</td>\n",
       "      <td>Sant Martí</td>\n",
       "    </tr>\n",
       "    <tr>\n",
       "      <th>2</th>\n",
       "      <td>12618</td>\n",
       "      <td>2</td>\n",
       "      <td>L'Eixample</td>\n",
       "    </tr>\n",
       "    <tr>\n",
       "      <th>3</th>\n",
       "      <td>10905</td>\n",
       "      <td>3</td>\n",
       "      <td>Sants-Monjuïc</td>\n",
       "    </tr>\n",
       "    <tr>\n",
       "      <th>4</th>\n",
       "      <td>7683</td>\n",
       "      <td>4</td>\n",
       "      <td>Les Corts</td>\n",
       "    </tr>\n",
       "    <tr>\n",
       "      <th>5</th>\n",
       "      <td>8466</td>\n",
       "      <td>5</td>\n",
       "      <td>Sarrià-Sant Gervasi</td>\n",
       "    </tr>\n",
       "    <tr>\n",
       "      <th>6</th>\n",
       "      <td>8341</td>\n",
       "      <td>6</td>\n",
       "      <td>Gràcia</td>\n",
       "    </tr>\n",
       "    <tr>\n",
       "      <th>7</th>\n",
       "      <td>9735</td>\n",
       "      <td>7</td>\n",
       "      <td>Horta-Guiardó</td>\n",
       "    </tr>\n",
       "    <tr>\n",
       "      <th>8</th>\n",
       "      <td>9462</td>\n",
       "      <td>8</td>\n",
       "      <td>Nou Barris</td>\n",
       "    </tr>\n",
       "    <tr>\n",
       "      <th>9</th>\n",
       "      <td>10009</td>\n",
       "      <td>9</td>\n",
       "      <td>Sant Andreu</td>\n",
       "    </tr>\n",
       "  </tbody>\n",
       "</table>\n",
       "</div>"
      ],
      "text/plain": [
       "   inf_viales district_id             district\n",
       "0       11865           1         Ciutat Vella\n",
       "1       11742          10           Sant Martí\n",
       "2       12618           2           L'Eixample\n",
       "3       10905           3        Sants-Monjuïc\n",
       "4        7683           4            Les Corts\n",
       "5        8466           5  Sarrià-Sant Gervasi\n",
       "6        8341           6               Gràcia\n",
       "7        9735           7        Horta-Guiardó\n",
       "8        9462           8           Nou Barris\n",
       "9       10009           9          Sant Andreu"
      ]
     },
     "execution_count": 711,
     "metadata": {},
     "output_type": "execute_result"
    }
   ],
   "source": [
    "vial"
   ]
  },
  {
   "cell_type": "code",
   "execution_count": 712,
   "metadata": {},
   "outputs": [],
   "source": [
    "vial.to_csv(\"D:\\ironhack\\proyectos\\Barcelona_UrbanAnalysis\\csv_from_python\\\\social\\\\acc_viales.csv\", index=False)"
   ]
  },
  {
   "attachments": {},
   "cell_type": "markdown",
   "metadata": {},
   "source": [
    "### Mossos de squadra."
   ]
  },
  {
   "attachments": {},
   "cell_type": "markdown",
   "metadata": {},
   "source": [
    "Hechos conocidos por distrito."
   ]
  },
  {
   "cell_type": "code",
   "execution_count": 762,
   "metadata": {},
   "outputs": [],
   "source": [
    "mossos = \"https://ajuntament.barcelona.cat/estadistica/castella/Estadistiques_per_temes/Societat_i_condicions_de_vida/Seguretat_i_prevencio/Mossos_esquadra/t112.htm\""
   ]
  },
  {
   "cell_type": "code",
   "execution_count": 763,
   "metadata": {},
   "outputs": [],
   "source": [
    "df = soc.mossos_inc(mossos)"
   ]
  },
  {
   "cell_type": "code",
   "execution_count": 764,
   "metadata": {},
   "outputs": [],
   "source": [
    "df.rename(columns={\"1.Ciutat Vella\":\"Ciutat Vella\", \"2.L'Eixample\":\"L'Eixample\",\t\"3.Sants-Monjuïc\":\"Sants-Monjuïc\",\t\"4.Les Corts\":\"Les Corts\",\t\"5.Sarrià-Sant Gervasi\":\"Sarrià-Sant Gervasi\",\t\"6.Gràcia\":\"Gràcia\",\t\"7.Horta-Guiardó\":\"Horta-Guiardó\",\t\"8.Nou Barris\":\"Nou Barris\",\t\"9.Sant Andreu\":\"Sant Andreu\",\t\"10.Sant Martí\":\"Sant Martí\"}, inplace=True)"
   ]
  },
  {
   "cell_type": "code",
   "execution_count": 765,
   "metadata": {},
   "outputs": [],
   "source": [
    "df[\"personal\"] = \"mossos\""
   ]
  },
  {
   "cell_type": "code",
   "execution_count": 767,
   "metadata": {},
   "outputs": [],
   "source": [
    "df.to_csv(\"D:\\ironhack\\proyectos\\Barcelona_UrbanAnalysis\\csv_from_python\\stramlit\\mossos.csv\", index=False)"
   ]
  },
  {
   "cell_type": "code",
   "execution_count": 696,
   "metadata": {},
   "outputs": [],
   "source": [
    "df = df.melt()\n",
    "df = df[pd.to_numeric(df[\"value\"], errors=\"coerce\").notnull()]\n",
    "df[\"x\"] = df[\"value\"].apply(lambda x: x.split (\",\")[0].replace(\"'\",\"\")).astype(float)\n",
    "\n",
    "df[\"x\"] = df[\"x\"].astype(float)\n",
    "x = df[[\"variable\", \"x\"]].groupby(by=\"variable\").sum()"
   ]
  },
  {
   "cell_type": "code",
   "execution_count": 697,
   "metadata": {},
   "outputs": [],
   "source": [
    "x = x.reset_index().rename(columns={\"index\":\"district\"})\n",
    "x[\"district_id\"] = x[\"variable\"].apply(lambda x: x.split(\".\")[0])\n",
    "x.drop(index=10, inplace=True)\n",
    "x[\"district\"] = x[\"variable\"].apply(lambda x: x.split(\".\")[1])\n",
    "x.drop(columns=[\"variable\"], inplace=True)\n",
    "x.rename(columns={\"variable\":\"district\", \"x\":\"mossos\"}, inplace=True)"
   ]
  },
  {
   "cell_type": "code",
   "execution_count": 698,
   "metadata": {},
   "outputs": [
    {
     "data": {
      "text/html": [
       "<div>\n",
       "<style scoped>\n",
       "    .dataframe tbody tr th:only-of-type {\n",
       "        vertical-align: middle;\n",
       "    }\n",
       "\n",
       "    .dataframe tbody tr th {\n",
       "        vertical-align: top;\n",
       "    }\n",
       "\n",
       "    .dataframe thead th {\n",
       "        text-align: right;\n",
       "    }\n",
       "</style>\n",
       "<table border=\"1\" class=\"dataframe\">\n",
       "  <thead>\n",
       "    <tr style=\"text-align: right;\">\n",
       "      <th></th>\n",
       "      <th>mossos</th>\n",
       "      <th>district_id</th>\n",
       "      <th>district</th>\n",
       "    </tr>\n",
       "  </thead>\n",
       "  <tbody>\n",
       "    <tr>\n",
       "      <th>0</th>\n",
       "      <td>4235.944</td>\n",
       "      <td>1</td>\n",
       "      <td>Ciutat Vella</td>\n",
       "    </tr>\n",
       "    <tr>\n",
       "      <th>1</th>\n",
       "      <td>3632.226</td>\n",
       "      <td>10</td>\n",
       "      <td>Sant Martí</td>\n",
       "    </tr>\n",
       "    <tr>\n",
       "      <th>2</th>\n",
       "      <td>3903.713</td>\n",
       "      <td>2</td>\n",
       "      <td>L'Eixample</td>\n",
       "    </tr>\n",
       "    <tr>\n",
       "      <th>3</th>\n",
       "      <td>3797.971</td>\n",
       "      <td>3</td>\n",
       "      <td>Sants-Monjuïc</td>\n",
       "    </tr>\n",
       "    <tr>\n",
       "      <th>4</th>\n",
       "      <td>3801.602</td>\n",
       "      <td>4</td>\n",
       "      <td>Les Corts</td>\n",
       "    </tr>\n",
       "    <tr>\n",
       "      <th>5</th>\n",
       "      <td>4316.616</td>\n",
       "      <td>5</td>\n",
       "      <td>Sarrià-Sant Gervasi</td>\n",
       "    </tr>\n",
       "    <tr>\n",
       "      <th>6</th>\n",
       "      <td>2914.602</td>\n",
       "      <td>6</td>\n",
       "      <td>Gràcia</td>\n",
       "    </tr>\n",
       "    <tr>\n",
       "      <th>7</th>\n",
       "      <td>4594.275</td>\n",
       "      <td>7</td>\n",
       "      <td>Horta-Guiardó</td>\n",
       "    </tr>\n",
       "    <tr>\n",
       "      <th>8</th>\n",
       "      <td>4724.517</td>\n",
       "      <td>8</td>\n",
       "      <td>Nou Barris</td>\n",
       "    </tr>\n",
       "    <tr>\n",
       "      <th>9</th>\n",
       "      <td>4208.569</td>\n",
       "      <td>9</td>\n",
       "      <td>Sant Andreu</td>\n",
       "    </tr>\n",
       "  </tbody>\n",
       "</table>\n",
       "</div>"
      ],
      "text/plain": [
       "     mossos district_id             district\n",
       "0  4235.944           1         Ciutat Vella\n",
       "1  3632.226          10           Sant Martí\n",
       "2  3903.713           2           L'Eixample\n",
       "3  3797.971           3        Sants-Monjuïc\n",
       "4  3801.602           4            Les Corts\n",
       "5  4316.616           5  Sarrià-Sant Gervasi\n",
       "6  2914.602           6               Gràcia\n",
       "7  4594.275           7        Horta-Guiardó\n",
       "8  4724.517           8           Nou Barris\n",
       "9  4208.569           9          Sant Andreu"
      ]
     },
     "execution_count": 698,
     "metadata": {},
     "output_type": "execute_result"
    }
   ],
   "source": [
    "x"
   ]
  },
  {
   "cell_type": "code",
   "execution_count": 699,
   "metadata": {},
   "outputs": [],
   "source": [
    "x.to_csv(\"D:\\ironhack\\proyectos\\Barcelona_UrbanAnalysis\\csv_from_python\\\\social\\\\mossos_asistencia_ayuda.csv\", index=False)"
   ]
  },
  {
   "attachments": {},
   "cell_type": "markdown",
   "metadata": {},
   "source": [
    "### Poblacion."
   ]
  },
  {
   "attachments": {},
   "cell_type": "markdown",
   "metadata": {},
   "source": [
    "edad por grandes grupos de edad 2021 por barrios."
   ]
  },
  {
   "cell_type": "code",
   "execution_count": 722,
   "metadata": {},
   "outputs": [],
   "source": [
    "poblacion = \"https://ajuntament.barcelona.cat/estadistica/castella/Estadistiques_per_temes/Poblacio_i_demografia/Poblacio/Xifres_oficials_poblacio/a2021/edat/edatg05.htm\""
   ]
  },
  {
   "cell_type": "code",
   "execution_count": 723,
   "metadata": {},
   "outputs": [],
   "source": [
    "df = soc.poblation(poblacion)"
   ]
  },
  {
   "cell_type": "code",
   "execution_count": 727,
   "metadata": {},
   "outputs": [],
   "source": [
    "df.rename(columns={\"Dto.\":\"district_id\"}, inplace=True)"
   ]
  },
  {
   "cell_type": "code",
   "execution_count": 725,
   "metadata": {},
   "outputs": [
    {
     "data": {
      "text/html": [
       "<div>\n",
       "<style scoped>\n",
       "    .dataframe tbody tr th:only-of-type {\n",
       "        vertical-align: middle;\n",
       "    }\n",
       "\n",
       "    .dataframe tbody tr th {\n",
       "        vertical-align: top;\n",
       "    }\n",
       "\n",
       "    .dataframe thead th {\n",
       "        text-align: right;\n",
       "    }\n",
       "</style>\n",
       "<table border=\"1\" class=\"dataframe\">\n",
       "  <thead>\n",
       "    <tr style=\"text-align: right;\">\n",
       "      <th></th>\n",
       "      <th>barri_id</th>\n",
       "      <th>Barrio</th>\n",
       "      <th>TOTAL</th>\n",
       "      <th>0-14 años</th>\n",
       "      <th>15-24 años</th>\n",
       "      <th>25-64 años</th>\n",
       "      <th>65 años y más</th>\n",
       "    </tr>\n",
       "  </thead>\n",
       "  <tbody>\n",
       "    <tr>\n",
       "      <th>66</th>\n",
       "      <td>10</td>\n",
       "      <td>la Vila Olímpica del Poblenou</td>\n",
       "      <td>9.240</td>\n",
       "      <td>1.221</td>\n",
       "      <td>1.197</td>\n",
       "      <td>5.300</td>\n",
       "      <td>1.522</td>\n",
       "    </tr>\n",
       "  </tbody>\n",
       "</table>\n",
       "</div>"
      ],
      "text/plain": [
       "   barri_id                          Barrio  TOTAL 0-14 años 15-24 años  \\\n",
       "66       10   la Vila Olímpica del Poblenou  9.240     1.221      1.197   \n",
       "\n",
       "   25-64 años 65 años y más  \n",
       "66      5.300         1.522  "
      ]
     },
     "execution_count": 725,
     "metadata": {},
     "output_type": "execute_result"
    }
   ],
   "source": [
    "df.sample()"
   ]
  },
  {
   "cell_type": "code",
   "execution_count": 726,
   "metadata": {},
   "outputs": [],
   "source": [
    "df.to_csv(\"D:\\ironhack\\proyectos\\Barcelona_UrbanAnalysis\\csv_from_python\\\\social\\\\densidad_poblacion.csv\", index=False)"
   ]
  },
  {
   "cell_type": "code",
   "execution_count": null,
   "metadata": {},
   "outputs": [],
   "source": [
    "poblacion = \"https://ajuntament.barcelona.cat/estadistica/castella/Estadistiques_per_temes/Poblacio_i_demografia/Poblacio/Xifres_oficials_poblacio/a2021/edat/edatg05.htm\""
   ]
  }
 ],
 "metadata": {
  "kernelspec": {
   "display_name": "ironhack",
   "language": "python",
   "name": "python3"
  },
  "language_info": {
   "codemirror_mode": {
    "name": "ipython",
    "version": 3
   },
   "file_extension": ".py",
   "mimetype": "text/x-python",
   "name": "python",
   "nbconvert_exporter": "python",
   "pygments_lexer": "ipython3",
   "version": "3.10.9"
  },
  "orig_nbformat": 4,
  "vscode": {
   "interpreter": {
    "hash": "91a84e6b8351ad3ec71ce9fb2308d8cc98e807eebbcac368689e5c7e13990fb4"
   }
  }
 },
 "nbformat": 4,
 "nbformat_minor": 2
}
