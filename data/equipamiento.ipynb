{
 "cells": [
  {
   "attachments": {},
   "cell_type": "markdown",
   "metadata": {},
   "source": [
    "# Equipamiento Urbano\n",
    "## Ayuntamiento de Barcelona"
   ]
  },
  {
   "cell_type": "code",
   "execution_count": 211,
   "metadata": {},
   "outputs": [
    {
     "data": {
      "text/plain": [
       "<module 'equipamiento' from 'd:\\\\ironhack\\\\proyectos\\\\Barcelona_UrbanAnalysis\\\\data\\\\..\\\\src\\\\equipamiento.py'>"
      ]
     },
     "execution_count": 211,
     "metadata": {},
     "output_type": "execute_result"
    }
   ],
   "source": [
    "import pandas as pd\n",
    "import importlib\n",
    "\n",
    "import sys \n",
    "sys.path.append(\"..\\src\")\n",
    "#from analysis import *\n",
    "import equipamiento as eq\n",
    "importlib.reload(eq)\n"
   ]
  },
  {
   "attachments": {},
   "cell_type": "markdown",
   "metadata": {},
   "source": [
    "## Cultura.\n",
    "### centros civicos "
   ]
  },
  {
   "cell_type": "code",
   "execution_count": 212,
   "metadata": {},
   "outputs": [],
   "source": [
    "civic = pd.read_csv(\"D:\\ironhack\\proyectos\\Barcelona_UrbanAnalysis\\csv\\cultura\\\\2021_centres_civics_entitats.csv\")"
   ]
  },
  {
   "cell_type": "code",
   "execution_count": 213,
   "metadata": {},
   "outputs": [],
   "source": [
    "civic = eq.civic_ (civic)"
   ]
  },
  {
   "cell_type": "code",
   "execution_count": 214,
   "metadata": {},
   "outputs": [
    {
     "data": {
      "text/html": [
       "<div>\n",
       "<style scoped>\n",
       "    .dataframe tbody tr th:only-of-type {\n",
       "        vertical-align: middle;\n",
       "    }\n",
       "\n",
       "    .dataframe tbody tr th {\n",
       "        vertical-align: top;\n",
       "    }\n",
       "\n",
       "    .dataframe thead th {\n",
       "        text-align: right;\n",
       "    }\n",
       "</style>\n",
       "<table border=\"1\" class=\"dataframe\">\n",
       "  <thead>\n",
       "    <tr style=\"text-align: right;\">\n",
       "      <th></th>\n",
       "      <th>name</th>\n",
       "      <th>district_id</th>\n",
       "      <th>district</th>\n",
       "      <th>barri_id</th>\n",
       "      <th>barri</th>\n",
       "      <th>latitud</th>\n",
       "      <th>longitud</th>\n",
       "      <th>total_usos_entitats</th>\n",
       "      <th>metres_quadrats</th>\n",
       "      <th>division</th>\n",
       "      <th>category</th>\n",
       "      <th>sub_category</th>\n",
       "    </tr>\n",
       "  </thead>\n",
       "  <tbody>\n",
       "    <tr>\n",
       "      <th>10</th>\n",
       "      <td>Centre Cívic Casa del Rellotge</td>\n",
       "      <td>3</td>\n",
       "      <td>Sants-Montjuïc</td>\n",
       "      <td>13</td>\n",
       "      <td>la Marina de Port</td>\n",
       "      <td>41.357544</td>\n",
       "      <td>2.14139</td>\n",
       "      <td>32</td>\n",
       "      <td>880</td>\n",
       "      <td>equipamiento</td>\n",
       "      <td>centro_civic</td>\n",
       "      <td>centro_civico</td>\n",
       "    </tr>\n",
       "  </tbody>\n",
       "</table>\n",
       "</div>"
      ],
      "text/plain": [
       "                              name  district_id        district  barri_id  \\\n",
       "10  Centre Cívic Casa del Rellotge            3  Sants-Montjuïc        13   \n",
       "\n",
       "                barri    latitud  longitud  total_usos_entitats  \\\n",
       "10  la Marina de Port  41.357544   2.14139                   32   \n",
       "\n",
       "    metres_quadrats      division      category   sub_category  \n",
       "10              880  equipamiento  centro_civic  centro_civico  "
      ]
     },
     "execution_count": 214,
     "metadata": {},
     "output_type": "execute_result"
    }
   ],
   "source": [
    "civic.sample()"
   ]
  },
  {
   "cell_type": "code",
   "execution_count": 215,
   "metadata": {},
   "outputs": [],
   "source": [
    "civic.to_csv(\"D:\\ironhack\\proyectos\\Barcelona_UrbanAnalysis\\csv_from_python\\equipamiento\\centre_civic.csv\", index=False)"
   ]
  },
  {
   "attachments": {},
   "cell_type": "markdown",
   "metadata": {},
   "source": [
    "### restaurants"
   ]
  },
  {
   "cell_type": "code",
   "execution_count": 216,
   "metadata": {},
   "outputs": [],
   "source": [
    "rest = pd.read_csv(\"D:\\ironhack\\proyectos\\Barcelona_UrbanAnalysis\\csv\\cultura\\\\restaurants.csv\")"
   ]
  },
  {
   "cell_type": "code",
   "execution_count": 217,
   "metadata": {},
   "outputs": [],
   "source": [
    "rest = eq.clean_cult_ocio (rest) "
   ]
  },
  {
   "cell_type": "code",
   "execution_count": 218,
   "metadata": {},
   "outputs": [],
   "source": [
    "rest[\"sub_category\"] = \"restaurants\""
   ]
  },
  {
   "cell_type": "code",
   "execution_count": 219,
   "metadata": {},
   "outputs": [
    {
     "data": {
      "text/html": [
       "<div>\n",
       "<style scoped>\n",
       "    .dataframe tbody tr th:only-of-type {\n",
       "        vertical-align: middle;\n",
       "    }\n",
       "\n",
       "    .dataframe tbody tr th {\n",
       "        vertical-align: top;\n",
       "    }\n",
       "\n",
       "    .dataframe thead th {\n",
       "        text-align: right;\n",
       "    }\n",
       "</style>\n",
       "<table border=\"1\" class=\"dataframe\">\n",
       "  <thead>\n",
       "    <tr style=\"text-align: right;\">\n",
       "      <th></th>\n",
       "      <th>name</th>\n",
       "      <th>barri_id</th>\n",
       "      <th>barri</th>\n",
       "      <th>district_id</th>\n",
       "      <th>district</th>\n",
       "      <th>category</th>\n",
       "      <th>latitud</th>\n",
       "      <th>longitud</th>\n",
       "      <th>address</th>\n",
       "      <th>division</th>\n",
       "      <th>sub_category</th>\n",
       "    </tr>\n",
       "  </thead>\n",
       "  <tbody>\n",
       "    <tr>\n",
       "      <th>513</th>\n",
       "      <td>Restaurant Can Vallés</td>\n",
       "      <td>9</td>\n",
       "      <td>la Nova Esquerra de l'Eixample</td>\n",
       "      <td>2</td>\n",
       "      <td>Eixample</td>\n",
       "      <td>Restaurants</td>\n",
       "      <td>41.382041</td>\n",
       "      <td>2.151211</td>\n",
       "      <td>C Aragó 95</td>\n",
       "      <td>cultura/ocio</td>\n",
       "      <td>restaurants</td>\n",
       "    </tr>\n",
       "  </tbody>\n",
       "</table>\n",
       "</div>"
      ],
      "text/plain": [
       "                      name  barri_id                           barri  \\\n",
       "513  Restaurant Can Vallés         9  la Nova Esquerra de l'Eixample   \n",
       "\n",
       "     district_id  district     category    latitud  longitud     address  \\\n",
       "513            2  Eixample  Restaurants  41.382041  2.151211  C Aragó 95   \n",
       "\n",
       "         division sub_category  \n",
       "513  cultura/ocio  restaurants  "
      ]
     },
     "execution_count": 219,
     "metadata": {},
     "output_type": "execute_result"
    }
   ],
   "source": [
    "rest.sample()"
   ]
  },
  {
   "cell_type": "code",
   "execution_count": 220,
   "metadata": {},
   "outputs": [],
   "source": [
    "rest.to_csv(\"D:\\ironhack\\proyectos\\Barcelona_UrbanAnalysis\\csv_from_python\\cult_ocio\\\\restaurants.csv\", index=False)"
   ]
  },
  {
   "attachments": {},
   "cell_type": "markdown",
   "metadata": {},
   "source": [
    "### Museum libraries. "
   ]
  },
  {
   "cell_type": "code",
   "execution_count": 221,
   "metadata": {},
   "outputs": [],
   "source": [
    "mus = pd.read_csv(\"D:\\ironhack\\proyectos\\Barcelona_UrbanAnalysis\\csv\\cultura\\museum_libraries.csv\")"
   ]
  },
  {
   "cell_type": "code",
   "execution_count": 222,
   "metadata": {},
   "outputs": [],
   "source": [
    "mus = eq.clean_equipamientos (mus) ### cultura y ocio"
   ]
  },
  {
   "cell_type": "code",
   "execution_count": 223,
   "metadata": {},
   "outputs": [],
   "source": [
    "mus = eq.clean_ids (mus)"
   ]
  },
  {
   "cell_type": "code",
   "execution_count": 224,
   "metadata": {},
   "outputs": [],
   "source": [
    "mus[\"sub_category\"] = \"museos\""
   ]
  },
  {
   "cell_type": "code",
   "execution_count": 225,
   "metadata": {},
   "outputs": [
    {
     "data": {
      "text/html": [
       "<div>\n",
       "<style scoped>\n",
       "    .dataframe tbody tr th:only-of-type {\n",
       "        vertical-align: middle;\n",
       "    }\n",
       "\n",
       "    .dataframe tbody tr th {\n",
       "        vertical-align: top;\n",
       "    }\n",
       "\n",
       "    .dataframe thead th {\n",
       "        text-align: right;\n",
       "    }\n",
       "</style>\n",
       "<table border=\"1\" class=\"dataframe\">\n",
       "  <thead>\n",
       "    <tr style=\"text-align: right;\">\n",
       "      <th></th>\n",
       "      <th>name</th>\n",
       "      <th>barri_id</th>\n",
       "      <th>barri</th>\n",
       "      <th>district_id</th>\n",
       "      <th>district</th>\n",
       "      <th>category</th>\n",
       "      <th>latitud</th>\n",
       "      <th>longitud</th>\n",
       "      <th>address</th>\n",
       "      <th>division</th>\n",
       "      <th>sub_category</th>\n",
       "    </tr>\n",
       "  </thead>\n",
       "  <tbody>\n",
       "    <tr>\n",
       "      <th>236</th>\n",
       "      <td>Biblioteca i Arxiu</td>\n",
       "      <td>5</td>\n",
       "      <td>el Fort Pienc</td>\n",
       "      <td>2</td>\n",
       "      <td>Eixample</td>\n",
       "      <td>Biblioteques</td>\n",
       "      <td>41.392969</td>\n",
       "      <td>2.178581</td>\n",
       "      <td>Pg Sant Joan 26</td>\n",
       "      <td>equipamiento</td>\n",
       "      <td>museos</td>\n",
       "    </tr>\n",
       "  </tbody>\n",
       "</table>\n",
       "</div>"
      ],
      "text/plain": [
       "                   name barri_id          barri district_id  district  \\\n",
       "236  Biblioteca i Arxiu        5  el Fort Pienc           2  Eixample   \n",
       "\n",
       "         category    latitud  longitud          address      division  \\\n",
       "236  Biblioteques  41.392969  2.178581  Pg Sant Joan 26  equipamiento   \n",
       "\n",
       "    sub_category  \n",
       "236       museos  "
      ]
     },
     "execution_count": 225,
     "metadata": {},
     "output_type": "execute_result"
    }
   ],
   "source": [
    "mus.sample()"
   ]
  },
  {
   "cell_type": "code",
   "execution_count": 226,
   "metadata": {},
   "outputs": [],
   "source": [
    "mus.to_csv(\"D:\\ironhack\\proyectos\\Barcelona_UrbanAnalysis\\csv_from_python\\cult_ocio\\\\museums_libraries.csv\", index=False)"
   ]
  },
  {
   "attachments": {},
   "cell_type": "markdown",
   "metadata": {},
   "source": [
    "### music and drinks. "
   ]
  },
  {
   "cell_type": "code",
   "execution_count": 227,
   "metadata": {},
   "outputs": [],
   "source": [
    "drinks = pd.read_csv(\"D:\\ironhack\\proyectos\\Barcelona_UrbanAnalysis\\csv\\cultura\\music_drinks.csv\")"
   ]
  },
  {
   "cell_type": "code",
   "execution_count": 228,
   "metadata": {},
   "outputs": [],
   "source": [
    "drinks = eq.clean_equipamientos (drinks) #### cultura y ocio"
   ]
  },
  {
   "cell_type": "code",
   "execution_count": 229,
   "metadata": {},
   "outputs": [],
   "source": [
    "drinks[\"sub_category\"] = \"drinks\""
   ]
  },
  {
   "cell_type": "code",
   "execution_count": 230,
   "metadata": {},
   "outputs": [
    {
     "data": {
      "text/html": [
       "<div>\n",
       "<style scoped>\n",
       "    .dataframe tbody tr th:only-of-type {\n",
       "        vertical-align: middle;\n",
       "    }\n",
       "\n",
       "    .dataframe tbody tr th {\n",
       "        vertical-align: top;\n",
       "    }\n",
       "\n",
       "    .dataframe thead th {\n",
       "        text-align: right;\n",
       "    }\n",
       "</style>\n",
       "<table border=\"1\" class=\"dataframe\">\n",
       "  <thead>\n",
       "    <tr style=\"text-align: right;\">\n",
       "      <th></th>\n",
       "      <th>name</th>\n",
       "      <th>barri_id</th>\n",
       "      <th>barri</th>\n",
       "      <th>district_id</th>\n",
       "      <th>district</th>\n",
       "      <th>category</th>\n",
       "      <th>latitud</th>\n",
       "      <th>longitud</th>\n",
       "      <th>address</th>\n",
       "      <th>division</th>\n",
       "      <th>sub_category</th>\n",
       "    </tr>\n",
       "  </thead>\n",
       "  <tbody>\n",
       "    <tr>\n",
       "      <th>119</th>\n",
       "      <td>Sala Soda Acústic</td>\n",
       "      <td>31</td>\n",
       "      <td>la Vila de Gràcia</td>\n",
       "      <td>6</td>\n",
       "      <td>Gràcia</td>\n",
       "      <td>Bars i pubs musicals</td>\n",
       "      <td>41.403109</td>\n",
       "      <td>2.157014</td>\n",
       "      <td>C Guilleries 6</td>\n",
       "      <td>equipamiento</td>\n",
       "      <td>drinks</td>\n",
       "    </tr>\n",
       "  </tbody>\n",
       "</table>\n",
       "</div>"
      ],
      "text/plain": [
       "                  name  barri_id              barri  district_id district  \\\n",
       "119  Sala Soda Acústic        31  la Vila de Gràcia            6   Gràcia   \n",
       "\n",
       "                 category    latitud  longitud         address      division  \\\n",
       "119  Bars i pubs musicals  41.403109  2.157014  C Guilleries 6  equipamiento   \n",
       "\n",
       "    sub_category  \n",
       "119       drinks  "
      ]
     },
     "execution_count": 230,
     "metadata": {},
     "output_type": "execute_result"
    }
   ],
   "source": [
    "drinks.sample()"
   ]
  },
  {
   "cell_type": "code",
   "execution_count": 231,
   "metadata": {},
   "outputs": [],
   "source": [
    "drinks.to_csv(\"D:\\ironhack\\proyectos\\Barcelona_UrbanAnalysis\\csv_from_python\\cult_ocio\\\\music_drinks.csv\", index=False)"
   ]
  },
  {
   "attachments": {},
   "cell_type": "markdown",
   "metadata": {},
   "source": [
    "### cines"
   ]
  },
  {
   "cell_type": "code",
   "execution_count": 232,
   "metadata": {},
   "outputs": [],
   "source": [
    "cine = pd.read_csv(\"D:\\ironhack\\proyectos\\Barcelona_UrbanAnalysis\\csv\\cultura\\cinema.csv\")"
   ]
  },
  {
   "cell_type": "code",
   "execution_count": 233,
   "metadata": {},
   "outputs": [],
   "source": [
    "cine = eq.clean_equipamientos (cine) ### cultura y ocio"
   ]
  },
  {
   "cell_type": "code",
   "execution_count": 234,
   "metadata": {},
   "outputs": [],
   "source": [
    "cine[\"sub_category\"] = \"cines\""
   ]
  },
  {
   "cell_type": "code",
   "execution_count": 235,
   "metadata": {},
   "outputs": [
    {
     "data": {
      "text/html": [
       "<div>\n",
       "<style scoped>\n",
       "    .dataframe tbody tr th:only-of-type {\n",
       "        vertical-align: middle;\n",
       "    }\n",
       "\n",
       "    .dataframe tbody tr th {\n",
       "        vertical-align: top;\n",
       "    }\n",
       "\n",
       "    .dataframe thead th {\n",
       "        text-align: right;\n",
       "    }\n",
       "</style>\n",
       "<table border=\"1\" class=\"dataframe\">\n",
       "  <thead>\n",
       "    <tr style=\"text-align: right;\">\n",
       "      <th></th>\n",
       "      <th>name</th>\n",
       "      <th>barri_id</th>\n",
       "      <th>barri</th>\n",
       "      <th>district_id</th>\n",
       "      <th>district</th>\n",
       "      <th>category</th>\n",
       "      <th>latitud</th>\n",
       "      <th>longitud</th>\n",
       "      <th>address</th>\n",
       "      <th>division</th>\n",
       "      <th>sub_category</th>\n",
       "    </tr>\n",
       "  </thead>\n",
       "  <tbody>\n",
       "    <tr>\n",
       "      <th>46</th>\n",
       "      <td>Sala Petita</td>\n",
       "      <td>5</td>\n",
       "      <td>el Fort Pienc</td>\n",
       "      <td>2</td>\n",
       "      <td>Eixample</td>\n",
       "      <td>Teatres</td>\n",
       "      <td>41.399718</td>\n",
       "      <td>2.186105</td>\n",
       "      <td>Pl Arts 1</td>\n",
       "      <td>equipamiento</td>\n",
       "      <td>cines</td>\n",
       "    </tr>\n",
       "  </tbody>\n",
       "</table>\n",
       "</div>"
      ],
      "text/plain": [
       "           name  barri_id          barri  district_id  district category  \\\n",
       "46  Sala Petita         5  el Fort Pienc            2  Eixample  Teatres   \n",
       "\n",
       "      latitud  longitud    address      division sub_category  \n",
       "46  41.399718  2.186105  Pl Arts 1  equipamiento        cines  "
      ]
     },
     "execution_count": 235,
     "metadata": {},
     "output_type": "execute_result"
    }
   ],
   "source": [
    "cine.sample()"
   ]
  },
  {
   "cell_type": "code",
   "execution_count": 236,
   "metadata": {},
   "outputs": [],
   "source": [
    "cine.to_csv(\"D:\\ironhack\\proyectos\\Barcelona_UrbanAnalysis\\csv_from_python\\cult_ocio\\\\cinemas.csv\", index=False)"
   ]
  },
  {
   "attachments": {},
   "cell_type": "markdown",
   "metadata": {},
   "source": [
    "## educacion.\n",
    "### escuelas"
   ]
  },
  {
   "cell_type": "code",
   "execution_count": 237,
   "metadata": {},
   "outputs": [],
   "source": [
    "schools = pd.read_csv(\"D:\\ironhack\\proyectos\\Barcelona_UrbanAnalysis\\csv\\equipamiento\\education.csv\")"
   ]
  },
  {
   "cell_type": "code",
   "execution_count": 238,
   "metadata": {},
   "outputs": [],
   "source": [
    "schools = eq.clean_equipamientos (schools) ##### equipamiento"
   ]
  },
  {
   "cell_type": "code",
   "execution_count": 239,
   "metadata": {},
   "outputs": [],
   "source": [
    "schools = eq.clean_ids (schools)"
   ]
  },
  {
   "cell_type": "code",
   "execution_count": 240,
   "metadata": {},
   "outputs": [],
   "source": [
    "schools[\"sub_category\"] = \"schools\""
   ]
  },
  {
   "cell_type": "code",
   "execution_count": 241,
   "metadata": {},
   "outputs": [
    {
     "data": {
      "text/html": [
       "<div>\n",
       "<style scoped>\n",
       "    .dataframe tbody tr th:only-of-type {\n",
       "        vertical-align: middle;\n",
       "    }\n",
       "\n",
       "    .dataframe tbody tr th {\n",
       "        vertical-align: top;\n",
       "    }\n",
       "\n",
       "    .dataframe thead th {\n",
       "        text-align: right;\n",
       "    }\n",
       "</style>\n",
       "<table border=\"1\" class=\"dataframe\">\n",
       "  <thead>\n",
       "    <tr style=\"text-align: right;\">\n",
       "      <th></th>\n",
       "      <th>name</th>\n",
       "      <th>barri_id</th>\n",
       "      <th>barri</th>\n",
       "      <th>district_id</th>\n",
       "      <th>district</th>\n",
       "      <th>category</th>\n",
       "      <th>latitud</th>\n",
       "      <th>longitud</th>\n",
       "      <th>address</th>\n",
       "      <th>division</th>\n",
       "      <th>sub_category</th>\n",
       "    </tr>\n",
       "  </thead>\n",
       "  <tbody>\n",
       "    <tr>\n",
       "      <th>1859</th>\n",
       "      <td>Escola Bressol Municipal L'Estació</td>\n",
       "      <td>72</td>\n",
       "      <td>Sant Martí de Provençals</td>\n",
       "      <td>10</td>\n",
       "      <td>Sant Martí</td>\n",
       "      <td>Escoles Bressol municipals</td>\n",
       "      <td>41.416505</td>\n",
       "      <td>2.194244</td>\n",
       "      <td>C Fluvià 253</td>\n",
       "      <td>equipamiento</td>\n",
       "      <td>schools</td>\n",
       "    </tr>\n",
       "  </tbody>\n",
       "</table>\n",
       "</div>"
      ],
      "text/plain": [
       "                                    name barri_id                     barri  \\\n",
       "1859  Escola Bressol Municipal L'Estació       72  Sant Martí de Provençals   \n",
       "\n",
       "     district_id    district                    category    latitud  longitud  \\\n",
       "1859          10  Sant Martí  Escoles Bressol municipals  41.416505  2.194244   \n",
       "\n",
       "           address      division sub_category  \n",
       "1859  C Fluvià 253  equipamiento      schools  "
      ]
     },
     "execution_count": 241,
     "metadata": {},
     "output_type": "execute_result"
    }
   ],
   "source": [
    "schools.sample()"
   ]
  },
  {
   "cell_type": "code",
   "execution_count": 242,
   "metadata": {},
   "outputs": [],
   "source": [
    "schools.to_csv(\"D:\\ironhack\\proyectos\\Barcelona_UrbanAnalysis\\csv_from_python\\equipamiento\\\\schools.csv\", index=False)"
   ]
  },
  {
   "attachments": {},
   "cell_type": "markdown",
   "metadata": {},
   "source": [
    "### hospitals"
   ]
  },
  {
   "cell_type": "code",
   "execution_count": 243,
   "metadata": {},
   "outputs": [],
   "source": [
    "hospitals = pd.read_csv(\"D:\\ironhack\\proyectos\\Barcelona_UrbanAnalysis\\csv\\equipamiento\\hospitals.csv\")"
   ]
  },
  {
   "cell_type": "code",
   "execution_count": 244,
   "metadata": {},
   "outputs": [],
   "source": [
    "hospitals = eq.clean_equipamientos (hospitals) ### equipamiento"
   ]
  },
  {
   "cell_type": "code",
   "execution_count": 245,
   "metadata": {},
   "outputs": [],
   "source": [
    "hospitals[\"sub_category\"] = \"hospitals\""
   ]
  },
  {
   "cell_type": "code",
   "execution_count": 246,
   "metadata": {},
   "outputs": [
    {
     "data": {
      "text/html": [
       "<div>\n",
       "<style scoped>\n",
       "    .dataframe tbody tr th:only-of-type {\n",
       "        vertical-align: middle;\n",
       "    }\n",
       "\n",
       "    .dataframe tbody tr th {\n",
       "        vertical-align: top;\n",
       "    }\n",
       "\n",
       "    .dataframe thead th {\n",
       "        text-align: right;\n",
       "    }\n",
       "</style>\n",
       "<table border=\"1\" class=\"dataframe\">\n",
       "  <thead>\n",
       "    <tr style=\"text-align: right;\">\n",
       "      <th></th>\n",
       "      <th>name</th>\n",
       "      <th>barri_id</th>\n",
       "      <th>barri</th>\n",
       "      <th>district_id</th>\n",
       "      <th>district</th>\n",
       "      <th>category</th>\n",
       "      <th>latitud</th>\n",
       "      <th>longitud</th>\n",
       "      <th>address</th>\n",
       "      <th>division</th>\n",
       "      <th>sub_category</th>\n",
       "    </tr>\n",
       "  </thead>\n",
       "  <tbody>\n",
       "    <tr>\n",
       "      <th>34</th>\n",
       "      <td>Hospital Quirónsalud Barcelona</td>\n",
       "      <td>28</td>\n",
       "      <td>Vallcarca i els Penitents</td>\n",
       "      <td>6</td>\n",
       "      <td>Gràcia</td>\n",
       "      <td>Hospitals i clíniques</td>\n",
       "      <td>41.415706</td>\n",
       "      <td>2.137892</td>\n",
       "      <td>Plaça d'Alfonso Comín 7</td>\n",
       "      <td>equipamiento</td>\n",
       "      <td>hospitals</td>\n",
       "    </tr>\n",
       "  </tbody>\n",
       "</table>\n",
       "</div>"
      ],
      "text/plain": [
       "                              name  barri_id                      barri  \\\n",
       "34  Hospital Quirónsalud Barcelona        28  Vallcarca i els Penitents   \n",
       "\n",
       "    district_id district               category    latitud  longitud  \\\n",
       "34            6   Gràcia  Hospitals i clíniques  41.415706  2.137892   \n",
       "\n",
       "                    address      division sub_category  \n",
       "34  Plaça d'Alfonso Comín 7  equipamiento    hospitals  "
      ]
     },
     "execution_count": 246,
     "metadata": {},
     "output_type": "execute_result"
    }
   ],
   "source": [
    "hospitals.sample()"
   ]
  },
  {
   "cell_type": "code",
   "execution_count": 247,
   "metadata": {},
   "outputs": [],
   "source": [
    "hospitals.to_csv(\"D:\\ironhack\\proyectos\\Barcelona_UrbanAnalysis\\csv_from_python\\equipamiento\\\\hospitals.csv\", index=False)"
   ]
  },
  {
   "attachments": {},
   "cell_type": "markdown",
   "metadata": {},
   "source": [
    "## SPORT\n",
    "### excersice"
   ]
  },
  {
   "cell_type": "code",
   "execution_count": 248,
   "metadata": {},
   "outputs": [],
   "source": [
    "exc = pd.read_csv(\"D:\\ironhack\\proyectos\\Barcelona_UrbanAnalysis\\csv\\sports\\excersice.csv\")"
   ]
  },
  {
   "cell_type": "code",
   "execution_count": 249,
   "metadata": {},
   "outputs": [],
   "source": [
    "exc = eq.clean_excersice (exc)"
   ]
  },
  {
   "cell_type": "code",
   "execution_count": 250,
   "metadata": {},
   "outputs": [],
   "source": [
    "exc[\"sub_category\"] = \"ejercicio\""
   ]
  },
  {
   "cell_type": "code",
   "execution_count": 251,
   "metadata": {},
   "outputs": [
    {
     "data": {
      "text/html": [
       "<div>\n",
       "<style scoped>\n",
       "    .dataframe tbody tr th:only-of-type {\n",
       "        vertical-align: middle;\n",
       "    }\n",
       "\n",
       "    .dataframe tbody tr th {\n",
       "        vertical-align: top;\n",
       "    }\n",
       "\n",
       "    .dataframe thead th {\n",
       "        text-align: right;\n",
       "    }\n",
       "</style>\n",
       "<table border=\"1\" class=\"dataframe\">\n",
       "  <thead>\n",
       "    <tr style=\"text-align: right;\">\n",
       "      <th></th>\n",
       "      <th>name</th>\n",
       "      <th>barri_id</th>\n",
       "      <th>barri</th>\n",
       "      <th>district_id</th>\n",
       "      <th>district</th>\n",
       "      <th>category</th>\n",
       "      <th>latitud</th>\n",
       "      <th>longitud</th>\n",
       "      <th>address</th>\n",
       "      <th>division</th>\n",
       "      <th>sub_category</th>\n",
       "    </tr>\n",
       "  </thead>\n",
       "  <tbody>\n",
       "    <tr>\n",
       "      <th>32</th>\n",
       "      <td>Espai Gimnàstic per a Gent Gran *Plaça Palestina</td>\n",
       "      <td>39</td>\n",
       "      <td>Sant Genís dels Agudells</td>\n",
       "      <td>7</td>\n",
       "      <td>Horta-Guinardó</td>\n",
       "      <td>excersice</td>\n",
       "      <td>41.424754</td>\n",
       "      <td>2.139045</td>\n",
       "      <td>C Sinaí 6</td>\n",
       "      <td>excersice</td>\n",
       "      <td>ejercicio</td>\n",
       "    </tr>\n",
       "  </tbody>\n",
       "</table>\n",
       "</div>"
      ],
      "text/plain": [
       "                                                name  barri_id  \\\n",
       "32  Espai Gimnàstic per a Gent Gran *Plaça Palestina        39   \n",
       "\n",
       "                       barri  district_id        district   category  \\\n",
       "32  Sant Genís dels Agudells            7  Horta-Guinardó  excersice   \n",
       "\n",
       "      latitud  longitud    address   division sub_category  \n",
       "32  41.424754  2.139045  C Sinaí 6  excersice    ejercicio  "
      ]
     },
     "execution_count": 251,
     "metadata": {},
     "output_type": "execute_result"
    }
   ],
   "source": [
    "exc.sample()"
   ]
  },
  {
   "cell_type": "code",
   "execution_count": 252,
   "metadata": {},
   "outputs": [],
   "source": [
    "exc.to_csv(\"D:\\ironhack\\proyectos\\Barcelona_UrbanAnalysis\\csv_from_python\\excercice\\\\excersice.csv\", index=False)"
   ]
  },
  {
   "attachments": {},
   "cell_type": "markdown",
   "metadata": {},
   "source": [
    "### pools."
   ]
  },
  {
   "cell_type": "code",
   "execution_count": 253,
   "metadata": {},
   "outputs": [],
   "source": [
    "pool = pd.read_csv(\"D:\\ironhack\\proyectos\\Barcelona_UrbanAnalysis\\csv\\sports\\pools.csv\")"
   ]
  },
  {
   "cell_type": "code",
   "execution_count": 254,
   "metadata": {},
   "outputs": [],
   "source": [
    "pool = eq.clean_pool (pool)"
   ]
  },
  {
   "cell_type": "code",
   "execution_count": 255,
   "metadata": {},
   "outputs": [],
   "source": [
    "pool[\"sub_category\"] = \"pool\""
   ]
  },
  {
   "cell_type": "code",
   "execution_count": 256,
   "metadata": {},
   "outputs": [
    {
     "data": {
      "text/html": [
       "<div>\n",
       "<style scoped>\n",
       "    .dataframe tbody tr th:only-of-type {\n",
       "        vertical-align: middle;\n",
       "    }\n",
       "\n",
       "    .dataframe tbody tr th {\n",
       "        vertical-align: top;\n",
       "    }\n",
       "\n",
       "    .dataframe thead th {\n",
       "        text-align: right;\n",
       "    }\n",
       "</style>\n",
       "<table border=\"1\" class=\"dataframe\">\n",
       "  <thead>\n",
       "    <tr style=\"text-align: right;\">\n",
       "      <th></th>\n",
       "      <th>name</th>\n",
       "      <th>barri_id</th>\n",
       "      <th>barri</th>\n",
       "      <th>district_id</th>\n",
       "      <th>district</th>\n",
       "      <th>latitud</th>\n",
       "      <th>longitud</th>\n",
       "      <th>address</th>\n",
       "      <th>category</th>\n",
       "      <th>division</th>\n",
       "      <th>sub_category</th>\n",
       "    </tr>\n",
       "  </thead>\n",
       "  <tbody>\n",
       "    <tr>\n",
       "      <th>84</th>\n",
       "      <td>Piscines Cobertes</td>\n",
       "      <td>49</td>\n",
       "      <td>Canyelles</td>\n",
       "      <td>8</td>\n",
       "      <td>Nou Barris</td>\n",
       "      <td>41.443976</td>\n",
       "      <td>2.171291</td>\n",
       "      <td>C Artesania 63</td>\n",
       "      <td>piscina</td>\n",
       "      <td>excersice</td>\n",
       "      <td>pool</td>\n",
       "    </tr>\n",
       "  </tbody>\n",
       "</table>\n",
       "</div>"
      ],
      "text/plain": [
       "                 name  barri_id      barri  district_id    district  \\\n",
       "84  Piscines Cobertes        49  Canyelles            8  Nou Barris   \n",
       "\n",
       "      latitud  longitud         address category   division sub_category  \n",
       "84  41.443976  2.171291  C Artesania 63  piscina  excersice         pool  "
      ]
     },
     "execution_count": 256,
     "metadata": {},
     "output_type": "execute_result"
    }
   ],
   "source": [
    "pool.sample()"
   ]
  },
  {
   "cell_type": "code",
   "execution_count": 257,
   "metadata": {},
   "outputs": [],
   "source": [
    "pool.to_csv(\"D:\\ironhack\\proyectos\\Barcelona_UrbanAnalysis\\csv_from_python\\excercice\\\\pools.csv\", index=False)"
   ]
  },
  {
   "attachments": {},
   "cell_type": "markdown",
   "metadata": {},
   "source": [
    "### walk circuit"
   ]
  },
  {
   "cell_type": "code",
   "execution_count": 258,
   "metadata": {},
   "outputs": [],
   "source": [
    "walk = pd.read_csv(\"D:\\ironhack\\proyectos\\Barcelona_UrbanAnalysis\\csv\\sports\\walk_run_circuits.csv\")"
   ]
  },
  {
   "cell_type": "code",
   "execution_count": 259,
   "metadata": {},
   "outputs": [],
   "source": [
    "walk = eq.clean_circuit (walk)"
   ]
  },
  {
   "cell_type": "code",
   "execution_count": 260,
   "metadata": {},
   "outputs": [],
   "source": [
    "walk[\"sub_category\"] = \"walk\""
   ]
  },
  {
   "cell_type": "code",
   "execution_count": 261,
   "metadata": {},
   "outputs": [
    {
     "data": {
      "text/html": [
       "<div>\n",
       "<style scoped>\n",
       "    .dataframe tbody tr th:only-of-type {\n",
       "        vertical-align: middle;\n",
       "    }\n",
       "\n",
       "    .dataframe tbody tr th {\n",
       "        vertical-align: top;\n",
       "    }\n",
       "\n",
       "    .dataframe thead th {\n",
       "        text-align: right;\n",
       "    }\n",
       "</style>\n",
       "<table border=\"1\" class=\"dataframe\">\n",
       "  <thead>\n",
       "    <tr style=\"text-align: right;\">\n",
       "      <th></th>\n",
       "      <th>name</th>\n",
       "      <th>barri_id</th>\n",
       "      <th>barri</th>\n",
       "      <th>district_id</th>\n",
       "      <th>district</th>\n",
       "      <th>latitud</th>\n",
       "      <th>longitud</th>\n",
       "      <th>address</th>\n",
       "      <th>category</th>\n",
       "      <th>division</th>\n",
       "      <th>sub_category</th>\n",
       "    </tr>\n",
       "  </thead>\n",
       "  <tbody>\n",
       "    <tr>\n",
       "      <th>8</th>\n",
       "      <td>Circuit  Esportiu Rambla Prim</td>\n",
       "      <td>73</td>\n",
       "      <td>la Verneda i la Pau</td>\n",
       "      <td>10</td>\n",
       "      <td>Sant Martí</td>\n",
       "      <td>41.425569</td>\n",
       "      <td>2.200423</td>\n",
       "      <td>Rbla Prim 256</td>\n",
       "      <td>walk_circuit</td>\n",
       "      <td>excersice</td>\n",
       "      <td>walk</td>\n",
       "    </tr>\n",
       "  </tbody>\n",
       "</table>\n",
       "</div>"
      ],
      "text/plain": [
       "                            name  barri_id                barri  district_id  \\\n",
       "8  Circuit  Esportiu Rambla Prim        73  la Verneda i la Pau           10   \n",
       "\n",
       "     district    latitud  longitud        address      category   division  \\\n",
       "8  Sant Martí  41.425569  2.200423  Rbla Prim 256  walk_circuit  excersice   \n",
       "\n",
       "  sub_category  \n",
       "8         walk  "
      ]
     },
     "execution_count": 261,
     "metadata": {},
     "output_type": "execute_result"
    }
   ],
   "source": [
    "walk.sample()"
   ]
  },
  {
   "cell_type": "code",
   "execution_count": 262,
   "metadata": {},
   "outputs": [],
   "source": [
    "walk.to_csv(\"D:\\ironhack\\proyectos\\Barcelona_UrbanAnalysis\\csv_from_python\\excercice\\\\walk_circuit.csv\", index=False)"
   ]
  },
  {
   "cell_type": "code",
   "execution_count": null,
   "metadata": {},
   "outputs": [],
   "source": []
  },
  {
   "cell_type": "code",
   "execution_count": null,
   "metadata": {},
   "outputs": [],
   "source": []
  }
 ],
 "metadata": {
  "kernelspec": {
   "display_name": "ironhack",
   "language": "python",
   "name": "python3"
  },
  "language_info": {
   "codemirror_mode": {
    "name": "ipython",
    "version": 3
   },
   "file_extension": ".py",
   "mimetype": "text/x-python",
   "name": "python",
   "nbconvert_exporter": "python",
   "pygments_lexer": "ipython3",
   "version": "3.10.9"
  },
  "orig_nbformat": 4,
  "vscode": {
   "interpreter": {
    "hash": "91a84e6b8351ad3ec71ce9fb2308d8cc98e807eebbcac368689e5c7e13990fb4"
   }
  }
 },
 "nbformat": 4,
 "nbformat_minor": 2
}
